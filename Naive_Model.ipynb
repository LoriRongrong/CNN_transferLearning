{
 "cells": [
  {
   "cell_type": "code",
   "execution_count": 1,
   "metadata": {},
   "outputs": [],
   "source": [
    "%matplotlib inline\n",
    "import matplotlib.pyplot as plt\n",
    "import numpy as np\n",
    "import torch\n",
    "import torchvision\n",
    "import torchvision.transforms as transforms\n",
    "from torch.utils.data import Dataset, DataLoader\n",
    "import torch.nn as nn\n",
    "import torch.nn.functional as F\n",
    "import torch.optim as optim\n",
    "import seaborn as sn\n",
    "import pandas as pd\n",
    "import pickle\n",
    "from collections import defaultdict\n",
    "from sklearn import metrics\n",
    "from torch.optim import lr_scheduler\n",
    "from torchvision import datasets\n",
    "import os"
   ]
  },
  {
   "cell_type": "code",
   "execution_count": 2,
   "metadata": {},
   "outputs": [],
   "source": [
    "class GTZANDataset(Dataset):\n",
    "    def __init__(self, data, transform=None):\n",
    "        self.data = data\n",
    "        self.transform = transform\n",
    "\n",
    "    def __len__(self):\n",
    "        return len(self.data)\n",
    "\n",
    "    def __getitem__(self, idx):\n",
    "        x = self.data[idx][0]\n",
    "        y = self.data[idx][1]\n",
    "        \n",
    "        if self.transform:\n",
    "            x = self.transform(x)\n",
    "        \n",
    "        x = torch.Tensor(x)\n",
    "\n",
    "        return (x, y)"
   ]
  },
  {
   "cell_type": "code",
   "execution_count": 3,
   "metadata": {},
   "outputs": [],
   "source": [
    "batch_size = 5\n",
    "\n",
    "\n",
    "transform = transforms.Compose(\n",
    "    [transforms.ToTensor(),\n",
    "     transforms.Normalize((0.5, 0.5, 0.5), (0.5, 0.5, 0.5))])\n",
    "\n",
    "GTZAN_data = pickle.load(open('data/GTZAN_resized.train', 'rb'))\n",
    "trainset = GTZANDataset(GTZAN_data)\n",
    "trainloader = torch.utils.data.DataLoader(trainset, batch_size=batch_size,\n",
    "                                          shuffle=True, num_workers=0)\n",
    "\n",
    "GTZAN_data = pickle.load(open('data/GTZAN_resized.test', 'rb'))\n",
    "testset = GTZANDataset(GTZAN_data)\n",
    "testloader = torch.utils.data.DataLoader(testset, batch_size=batch_size,\n",
    "                                          shuffle=True, num_workers=0)\n",
    "\n",
    "\n",
    "classes = ('blues', 'classical', 'country', 'disco', 'hiphop', 'jazz', 'metal', 'pop', 'reggae', 'rock')"
   ]
  },
  {
   "cell_type": "code",
   "execution_count": null,
   "metadata": {},
   "outputs": [],
   "source": []
  },
  {
   "cell_type": "code",
   "execution_count": 4,
   "metadata": {},
   "outputs": [
    {
     "name": "stdout",
     "output_type": "stream",
     "text": [
      "cuda:0\n"
     ]
    }
   ],
   "source": [
    "# If there are GPUs, choose the first one for computing. Otherwise use CPU.\n",
    "device = torch.device(\"cuda:0\" if torch.cuda.is_available() else \"cpu\")\n",
    "print(device)  \n",
    "# If 'cuda:0' is printed, it means GPU is available."
   ]
  },
  {
   "cell_type": "code",
   "execution_count": 5,
   "metadata": {
    "scrolled": true
   },
   "outputs": [
    {
     "data": {
      "text/plain": [
       "cnn(\n",
       "  (main): Sequential(\n",
       "    (0): Conv2d(1, 64, kernel_size=(3, 3), stride=(1, 1), padding=(1, 1))\n",
       "    (1): BatchNorm2d(64, eps=1e-05, momentum=0.1, affine=True, track_running_stats=True)\n",
       "    (2): ReLU()\n",
       "    (3): MaxPool2d(kernel_size=2, stride=2, padding=0, dilation=1, ceil_mode=False)\n",
       "    (4): Conv2d(64, 64, kernel_size=(3, 3), stride=(1, 1), padding=(1, 1))\n",
       "    (5): BatchNorm2d(64, eps=1e-05, momentum=0.1, affine=True, track_running_stats=True)\n",
       "    (6): MaxPool2d(kernel_size=2, stride=2, padding=0, dilation=1, ceil_mode=False)\n",
       "    (7): Conv2d(64, 128, kernel_size=(3, 3), stride=(1, 1), padding=(1, 1))\n",
       "    (8): BatchNorm2d(128, eps=1e-05, momentum=0.1, affine=True, track_running_stats=True)\n",
       "    (9): ReLU()\n",
       "    (10): Conv2d(128, 256, kernel_size=(3, 3), stride=(1, 1), padding=(1, 1))\n",
       "    (11): ReLU()\n",
       "    (12): MaxPool2d(kernel_size=2, stride=2, padding=0, dilation=1, ceil_mode=False)\n",
       "    (13): BatchNorm2d(256, eps=1e-05, momentum=0.1, affine=True, track_running_stats=True)\n",
       "    (14): Conv2d(256, 512, kernel_size=(3, 3), stride=(1, 1), padding=(1, 1))\n",
       "    (15): ReLU()\n",
       "    (16): BatchNorm2d(512, eps=1e-05, momentum=0.1, affine=True, track_running_stats=True)\n",
       "    (17): MaxPool2d(kernel_size=2, stride=2, padding=0, dilation=1, ceil_mode=False)\n",
       "  )\n",
       "  (fc): Sequential(\n",
       "    (0): Linear(in_features=10240, out_features=1000, bias=True)\n",
       "    (1): ReLU()\n",
       "    (2): Dropout(p=0.5, inplace=False)\n",
       "    (3): Linear(in_features=1000, out_features=100, bias=True)\n",
       "    (4): ReLU()\n",
       "    (5): Dropout(p=0.5, inplace=False)\n",
       "    (6): Linear(in_features=100, out_features=10, bias=True)\n",
       "  )\n",
       "  (dropOut): Dropout(p=0.1, inplace=False)\n",
       ")"
      ]
     },
     "execution_count": 5,
     "metadata": {},
     "output_type": "execute_result"
    }
   ],
   "source": [
    "# https://aip.scitation.org/doi/pdf/10.1063/1.5039095\n",
    "class cnn(nn.Module):\n",
    "    def __init__(self):\n",
    "        super(cnn, self).__init__()\n",
    "        self.main = nn.Sequential(\n",
    "            nn.Conv2d(1, 64, kernel_size=3,padding=1),\n",
    "            nn.BatchNorm2d(64,momentum=0.1),\n",
    "            nn.ReLU(),\n",
    "            nn.MaxPool2d(2, 2),\n",
    "            nn.Conv2d(64, 64, kernel_size=3,padding=1),\n",
    "            nn.BatchNorm2d(64),\n",
    "            nn.MaxPool2d(2, 2),\n",
    "            nn.Conv2d(64, 128, kernel_size=3,padding=1),\n",
    "            nn.BatchNorm2d(128),\n",
    "            nn.ReLU(),\n",
    "            nn.Conv2d(128, 256, kernel_size=3,padding=1),\n",
    "            nn.ReLU(),\n",
    "            nn.MaxPool2d(2, 2),\n",
    "            nn.BatchNorm2d(256),\n",
    "            nn.Conv2d(256, 512, kernel_size=3,padding=1),\n",
    "            nn.ReLU(),\n",
    "            nn.BatchNorm2d(512),\n",
    "            nn.MaxPool2d(2, 2)       \n",
    "        )\n",
    "   \n",
    "        # flatten \n",
    "        self.fc = nn.Sequential(\n",
    "            nn.Linear(512*2*10,1000),\n",
    "            nn.ReLU(),\n",
    "            nn.Dropout(0.5),\n",
    "            nn.Linear(1000,100),\n",
    "            nn.ReLU(),\n",
    "            nn.Dropout(0.5),\n",
    "            nn.Linear(100,10),           \n",
    "        )\n",
    "        self.dropOut = nn.Dropout(0.1)\n",
    "        \n",
    "    def forward(self, x):\n",
    "\n",
    "        x = self.main(x)\n",
    "#         print ('x shape: ', x.shape)\n",
    "        x = x.view(-1, 512*2*10) \n",
    "       \n",
    "        x = self.fc(x) \n",
    "        x = self.dropOut(x)\n",
    "        return x\n",
    "        \n",
    "\n",
    "cnn = cnn()     # Create the network instance.\n",
    "cnn.to(device)  # Move the network parameters to the specified device."
   ]
  },
  {
   "cell_type": "code",
   "execution_count": 6,
   "metadata": {},
   "outputs": [],
   "source": [
    "class Net(nn.Module):  \n",
    "    def __init__(self):\n",
    "        super(Net, self).__init__()\n",
    "        self.conv1 = nn.Conv2d(in_channels=1, out_channels=10, kernel_size=3, stride=1, padding=1)\n",
    "        self.pool = nn.MaxPool2d(2, 2)\n",
    "        self.conv2 = nn.Conv2d(in_channels=10, out_channels=20, kernel_size=3, stride=1, padding=1)\n",
    "        self.fc1 = nn.Linear(20*32*161, 100) # Get the vector of the layer right before the final fc layer and plot tfidf\n",
    "        self.fc2 = nn.Linear(100, 10) \n",
    "        \n",
    "    def forward(self, x):\n",
    "        x = self.pool(F.relu(self.conv1(x)))\n",
    "        x = self.pool(F.relu(self.conv2(x)))\n",
    "        x = x.view(-1, 20*32*161)\n",
    "        x = F.relu(self.fc1(x))\n",
    "        x = self.fc2(x)\n",
    "        \n",
    "        return x\n"
   ]
  },
  {
   "cell_type": "code",
   "execution_count": 7,
   "metadata": {},
   "outputs": [],
   "source": [
    "# net = Net()     # Create the network instance.\n",
    "# net.to(device)  # Move the network parameters to the specified device."
   ]
  },
  {
   "cell_type": "code",
   "execution_count": 8,
   "metadata": {},
   "outputs": [],
   "source": [
    "# We use cross-entropy as loss function.\n",
    "loss_func = nn.CrossEntropyLoss()  \n",
    "# We use stochastic gradient descent (SGD) as optimizer.\n",
    "# opt_net = optim.SGD(net.parameters(), lr=0.001, momentum=0.9) \n",
    "opt_cnn = optim.SGD(cnn.parameters(), lr=0.001, momentum=0.9) "
   ]
  },
  {
   "cell_type": "code",
   "execution_count": 9,
   "metadata": {},
   "outputs": [
    {
     "data": {
      "text/plain": [
       "<torch.autograd.anomaly_mode.set_detect_anomaly at 0x7fb2c07fc358>"
      ]
     },
     "execution_count": 9,
     "metadata": {},
     "output_type": "execute_result"
    }
   ],
   "source": [
    "torch.autograd.set_detect_anomaly(True)"
   ]
  },
  {
   "cell_type": "code",
   "execution_count": 10,
   "metadata": {
    "scrolled": true
   },
   "outputs": [
    {
     "name": "stdout",
     "output_type": "stream",
     "text": [
      "[epoch: 0, i:    99] avg mini-batch loss_cnn: 2.301, acc: 0.174\n",
      "[epoch: 1, i:    99] avg mini-batch loss_cnn: 2.046, acc: 0.244\n",
      "[epoch: 2, i:    99] avg mini-batch loss_cnn: 1.920, acc: 0.294\n",
      "[epoch: 3, i:    99] avg mini-batch loss_cnn: 1.831, acc: 0.316\n",
      "[epoch: 4, i:    99] avg mini-batch loss_cnn: 1.855, acc: 0.290\n",
      "[epoch: 5, i:    99] avg mini-batch loss_cnn: 1.635, acc: 0.408\n",
      "[epoch: 6, i:    99] avg mini-batch loss_cnn: 1.654, acc: 0.424\n",
      "[epoch: 7, i:    99] avg mini-batch loss_cnn: 1.597, acc: 0.444\n",
      "[epoch: 8, i:    99] avg mini-batch loss_cnn: 1.613, acc: 0.436\n",
      "[epoch: 9, i:    99] avg mini-batch loss_cnn: 1.517, acc: 0.454\n",
      "[epoch: 10, i:    99] avg mini-batch loss_cnn: 1.413, acc: 0.526\n",
      "[epoch: 11, i:    99] avg mini-batch loss_cnn: 1.400, acc: 0.506\n",
      "[epoch: 12, i:    99] avg mini-batch loss_cnn: 1.301, acc: 0.550\n",
      "[epoch: 13, i:    99] avg mini-batch loss_cnn: 1.225, acc: 0.544\n",
      "[epoch: 14, i:    99] avg mini-batch loss_cnn: 1.233, acc: 0.606\n",
      "[epoch: 15, i:    99] avg mini-batch loss_cnn: 1.197, acc: 0.584\n",
      "[epoch: 16, i:    99] avg mini-batch loss_cnn: 1.069, acc: 0.620\n",
      "[epoch: 17, i:    99] avg mini-batch loss_cnn: 1.044, acc: 0.644\n",
      "[epoch: 18, i:    99] avg mini-batch loss_cnn: 1.038, acc: 0.668\n",
      "[epoch: 19, i:    99] avg mini-batch loss_cnn: 0.819, acc: 0.740\n",
      "[epoch: 20, i:    99] avg mini-batch loss_cnn: 1.039, acc: 0.654\n",
      "[epoch: 21, i:    99] avg mini-batch loss_cnn: 0.853, acc: 0.698\n",
      "[epoch: 22, i:    99] avg mini-batch loss_cnn: 0.960, acc: 0.678\n",
      "[epoch: 23, i:    99] avg mini-batch loss_cnn: 0.763, acc: 0.758\n",
      "[epoch: 24, i:    99] avg mini-batch loss_cnn: 0.937, acc: 0.722\n",
      "Finished Training.\n"
     ]
    }
   ],
   "source": [
    "avg_losses_cnn = []\n",
    "avg_acc = []\n",
    "epochs = 25       # Total epochs.\n",
    "print_freq = 100  # Print frequency.\n",
    "\n",
    "try:\n",
    "    for epoch in range(epochs):  # Loop over the dataset multiple times.\n",
    "      # Initialize running loss.\n",
    "        running_loss_cnn = 0.0 \n",
    "        running_acc = 0.0\n",
    "        cnn.train()\n",
    "\n",
    "        for i, data in enumerate(trainloader):\n",
    "\n",
    "            # Get the inputs.\n",
    "            inputs, labels = data\n",
    "\n",
    "            # Move the inputs to the specified device.\n",
    "            inputs, labels = inputs.to(device), labels.to(device)\n",
    "\n",
    "            # Zero the parameter gradients.\n",
    "\n",
    "            opt_cnn.zero_grad()\n",
    "                    \n",
    "            outputs_cnn = cnn(inputs)\n",
    "            _, preds = torch.max(outputs_cnn,1)\n",
    "            loss_cnn = loss_func(outputs_cnn, labels)\n",
    "\n",
    "            # Backward step.\n",
    "            loss_cnn.backward()\n",
    "            # Optimization step (update the parameters).\n",
    "            opt_cnn.step()\n",
    "            # Print statistics.         \n",
    "            running_loss_cnn += loss_cnn.item()\n",
    "            running_acc += torch.sum(preds == labels.data)\n",
    "            if i % print_freq == print_freq - 1: # Print every several mini-batches.\n",
    "\n",
    "                losses = running_loss_cnn / print_freq\n",
    "                acc = running_acc / (print_freq*batch_size)\n",
    "\n",
    "                print('[epoch: {}, i: {:5d}] avg mini-batch loss_cnn: {:.3f}, acc: {:.3f}'.format(\n",
    "                    epoch, i, losses, acc))\n",
    "\n",
    "                avg_losses_cnn.append(losses)\n",
    "                avg_acc.append(acc)\n",
    "\n",
    "                running_loss_cnn = 0.0\n",
    "                running_acc = 0.0\n",
    "    print('Finished Training.')\n",
    "except KeyboardInterrupt:\n",
    "    print('Halted Training')"
   ]
  },
  {
   "cell_type": "code",
   "execution_count": 11,
   "metadata": {},
   "outputs": [
    {
     "data": {
      "image/png": "[encoded data removed]",
      "text/plain": [
       "<Figure size 432x288 with 1 Axes>"
      ]
     },
     "metadata": {
      "needs_background": "light"
     },
     "output_type": "display_data"
    }
   ],
   "source": [
    "# plt.plot(avg_losses_net, 'b', label='default')\n",
    "plt.plot(avg_losses_cnn, 'r', label='twitched')\n",
    "plt.xlabel('mini-batch index / {}'.format(print_freq))\n",
    "plt.ylabel('avg. mini-batch loss')\n",
    "plt.legend()\n",
    "plt.show()"
   ]
  },
  {
   "cell_type": "code",
   "execution_count": 12,
   "metadata": {},
   "outputs": [
    {
     "name": "stdout",
     "output_type": "stream",
     "text": [
      "pre_trained: Accuracy of the network on the 200 test images: 58 %\n"
     ]
    }
   ],
   "source": [
    "# Get test accuracy.\n",
    "correct_net = 0\n",
    "correct_cnn = 0\n",
    "total = 0\n",
    "with torch.no_grad():\n",
    "    \n",
    "    for data in testloader:\n",
    "        images, labels = data\n",
    "        images, labels = images.to(device), labels.to(device)\n",
    "#         outputs_net = net(images)\n",
    "        outputs_cnn = cnn(images)\n",
    "#         _, predicted_net = torch.max(outputs_net.data, 1)\n",
    "        _, predicted_cnn = torch.max(outputs_cnn.data, 1)\n",
    "        total += labels.size(0)\n",
    "#         correct_net += (predicted_net == labels).sum().item()\n",
    "        correct_cnn += (predicted_cnn == labels).sum().item()\n",
    "\n",
    "\n",
    "print('pre_trained: Accuracy of the network on the 200 test images: %d %%' % (\n",
    "    100 * correct_cnn / total))"
   ]
  },
  {
   "cell_type": "code",
   "execution_count": 13,
   "metadata": {},
   "outputs": [
    {
     "name": "stdout",
     "output_type": "stream",
     "text": [
      "Accuracy of blues : 57 %\n",
      "Accuracy of classical : 90 %\n",
      "Accuracy of country : 60 %\n",
      "Accuracy of disco : 59 %\n",
      "Accuracy of hiphop : 69 %\n",
      "Accuracy of  jazz : 57 %\n",
      "Accuracy of metal : 69 %\n",
      "Accuracy of   pop : 80 %\n",
      "Accuracy of reggae : 60 %\n",
      "Accuracy of  rock : 12 %\n"
     ]
    }
   ],
   "source": [
    "truths = []\n",
    "preds = []\n",
    "# Get test accuracy for each class.\n",
    "class_correct = list(0. for i in range(10))\n",
    "class_total = list(0. for i in range(10))\n",
    "with torch.no_grad():\n",
    "    for data in testloader:\n",
    "        images, labels = data\n",
    "        images, labels = images.to(device), labels.to(device)\n",
    "        outputs = cnn(images)\n",
    "        _, predicted = torch.max(outputs, 1)\n",
    "        c = (predicted == labels).squeeze()\n",
    "        if type(c) is not list:\n",
    "            c = [c]\n",
    "#         print (\"outside: \", c)\n",
    "#         print (\"separate: \", c[0][0])\n",
    "#         print (\"separate: \", c[1])\n",
    "#         print (\"separate: \", c[2])\n",
    "        for i in range(batch_size):\n",
    "            preds.append(predicted[i].item())\n",
    "            \n",
    "            truths.append(labels[i].item())\n",
    "\n",
    "            label = labels[i]\n",
    "            class_correct[label] += c[0][i]\n",
    "            class_total[label] += 1\n",
    "\n",
    "for i in range(10):\n",
    "    print('Accuracy of %5s : %2d %%' % (\n",
    "        classes[i], 100 * class_correct[i] / class_total[i]))"
   ]
  },
  {
   "cell_type": "code",
   "execution_count": 14,
   "metadata": {},
   "outputs": [
    {
     "data": {
      "text/plain": [
       "<matplotlib.axes._subplots.AxesSubplot at 0x7fb2cb74d550>"
      ]
     },
     "execution_count": 14,
     "metadata": {},
     "output_type": "execute_result"
    },
    {
     "data": {
      "image/png": "[encoded data removed]",
      "text/plain": [
       "<Figure size 1440x648 with 2 Axes>"
      ]
     },
     "metadata": {
      "needs_background": "light"
     },
     "output_type": "display_data"
    }
   ],
   "source": [
    "array = metrics.confusion_matrix(truths, preds)\n",
    "df_cm = pd.DataFrame(array, index = classes, columns = classes)\n",
    "plt.figure(figsize = (20,9))\n",
    "sn.heatmap(df_cm, annot=True)"
   ]
  },
  {
   "cell_type": "code",
   "execution_count": null,
   "metadata": {},
   "outputs": [],
   "source": []
  },
  {
   "cell_type": "code",
   "execution_count": null,
   "metadata": {},
   "outputs": [],
   "source": []
  },
  {
   "cell_type": "code",
   "execution_count": null,
   "metadata": {},
   "outputs": [],
   "source": []
  }
 ],
 "metadata": {
  "kernelspec": {
   "display_name": "Python 3",
   "language": "python",
   "name": "python3"
  },
  "language_info": {
   "codemirror_mode": {
    "name": "ipython",
    "version": 3
   },
   "file_extension": ".py",
   "mimetype": "text/x-python",
   "name": "python",
   "nbconvert_exporter": "python",
   "pygments_lexer": "ipython3",
   "version": "3.7.3"
  }
 },
 "nbformat": 4,
 "nbformat_minor": 4
}
