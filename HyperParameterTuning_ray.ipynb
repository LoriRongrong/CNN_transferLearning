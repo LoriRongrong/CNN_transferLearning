{
 "cells": [
  {
   "cell_type": "code",
   "execution_count": 1,
   "metadata": {},
   "outputs": [],
   "source": [
    "import numpy as np\n",
    "import torch\n",
    "import torch.optim as optim\n",
    "import torch.nn as nn\n",
    "import torch.nn.functional as F\n",
    "\n",
    "\n",
    "from ray import tune\n",
    "from ray.tune.examples.mnist_pytorch import get_data_loaders, train, test"
   ]
  },
  {
   "cell_type": "code",
   "execution_count": 2,
   "metadata": {},
   "outputs": [
    {
     "name": "stdout",
     "output_type": "stream",
     "text": [
      "cuda:0\n"
     ]
    }
   ],
   "source": [
    "import numpy as np\n",
    "import random\n",
    "import sys\n",
    "import pickle\n",
    "import matplotlib.pyplot as plt\n",
    "from sklearn import datasets\n",
    "from sklearn.metrics import accuracy_score\n",
    "import seaborn as sns\n",
    "\n",
    "import torch\n",
    "import torchvision\n",
    "import torchvision.transforms as transforms\n",
    "from torch.utils.data import Dataset, DataLoader\n",
    "import torch.nn as nn\n",
    "import torch.nn.functional as F\n",
    "import torch.optim as optim\n",
    "from skorch import NeuralNetRegressor\n",
    "\n",
    "from sklearn.model_selection import GridSearchCV\n",
    "from collections import defaultdict\n",
    "from sklearn import metrics\n",
    "import pandas as pd\n",
    "\n",
    "device = torch.device(\"cuda:0\" if torch.cuda.is_available() else \"cpu\")\n",
    "# device = torch.device('cpu')\n",
    "print(device)  "
   ]
  },
  {
   "cell_type": "markdown",
   "metadata": {},
   "source": [
    "### load pre-process data"
   ]
  },
  {
   "cell_type": "code",
   "execution_count": 3,
   "metadata": {},
   "outputs": [],
   "source": [
    "class GTZANDataset(Dataset):\n",
    "    def __init__(self, data, transform=None):\n",
    "        self.data = data\n",
    "        self.transform = transform\n",
    "\n",
    "    def __len__(self):\n",
    "        return len(self.data)\n",
    "\n",
    "    def __getitem__(self, idx):\n",
    "        x = self.data[idx][0]\n",
    "        y = self.data[idx][1]\n",
    "        \n",
    "        if self.transform:\n",
    "            x = self.transform(x)\n",
    "        \n",
    "        x = torch.Tensor(x)\n",
    "\n",
    "        return (x, y)\n",
    "\n",
    "batch_size = 5\n",
    "\n",
    "\n",
    "transform = transforms.Compose(\n",
    "    [transforms.ToTensor(),\n",
    "     transforms.Normalize((0.5, 0.5, 0.5), (0.5, 0.5, 0.5))])\n",
    "\n",
    "raw_trainset = pickle.load(open('data/GTZAN_resized.train', 'rb'))\n",
    "trainset = GTZANDataset(raw_trainset)\n",
    "trainloader = torch.utils.data.DataLoader(trainset, batch_size=batch_size,\n",
    "                                          shuffle=True, num_workers=0)\n",
    "\n",
    "raw_testset = pickle.load(open('data/GTZAN_resized.test', 'rb'))\n",
    "testset = GTZANDataset(raw_testset)\n",
    "testloader = torch.utils.data.DataLoader(testset, batch_size=batch_size,\n",
    "                                          shuffle=True, num_workers=0)\n",
    "\n",
    "\n",
    "classes = ('blues', 'classical', 'country', 'disco', 'hiphop', 'jazz', 'metal', 'pop', 'reggae', 'rock')"
   ]
  },
  {
   "cell_type": "code",
   "execution_count": 4,
   "metadata": {},
   "outputs": [],
   "source": [
    "class cnn(nn.Module):\n",
    "    def __init__(self):\n",
    "        super(cnn, self).__init__()\n",
    "        self.main = nn.Sequential(\n",
    "            nn.Conv2d(1, 64, kernel_size=3,padding=1),\n",
    "            nn.BatchNorm2d(64,momentum=0.1),\n",
    "            nn.ReLU(),\n",
    "            nn.MaxPool2d(2, 2),\n",
    "            nn.Conv2d(64, 64, kernel_size=3,padding=1),\n",
    "            nn.BatchNorm2d(64),\n",
    "            nn.MaxPool2d(2, 2),\n",
    "            nn.Conv2d(64, 128, kernel_size=3,padding=1),\n",
    "            nn.BatchNorm2d(128),\n",
    "            nn.ReLU(),\n",
    "            nn.Conv2d(128, 256, kernel_size=3,padding=1),\n",
    "            nn.ReLU(),\n",
    "            nn.MaxPool2d(2, 2),\n",
    "            nn.BatchNorm2d(256),\n",
    "            nn.Conv2d(256, 512, kernel_size=3,padding=1),\n",
    "            nn.ReLU(),\n",
    "            nn.BatchNorm2d(512),\n",
    "            nn.MaxPool2d(2, 2)       \n",
    "        )\n",
    "   \n",
    "        # flatten \n",
    "        self.fc = nn.Sequential(\n",
    "            nn.Linear(512*2*10,1000),\n",
    "            nn.ReLU(),\n",
    "            nn.Dropout(0.5),\n",
    "            nn.Linear(1000,100),\n",
    "            nn.ReLU(),\n",
    "            nn.Dropout(0.5),\n",
    "            nn.Linear(100,10),           \n",
    "        )\n",
    "        self.dropOut = nn.Dropout(0.1)\n",
    "        \n",
    "    def forward(self, x):\n",
    "\n",
    "        x = self.main(x)\n",
    "#         print ('x shape: ', x.shape)\n",
    "        x = x.view(-1, 512*2*10) \n",
    "       \n",
    "        x = self.fc(x) \n",
    "        x = self.dropOut(x)\n",
    "        return x\n",
    "        "
   ]
  },
  {
   "cell_type": "code",
   "execution_count": 5,
   "metadata": {},
   "outputs": [],
   "source": [
    "def train(net, opt, trainloader, loss_func, device): \n",
    "    net.train()\n",
    "    avg_losses = []   # Avg. losses.\n",
    "   \n",
    "    epochs = 10       # Total epochs.\n",
    "    print_freq = 100  # Print frequency.\n",
    "\n",
    "    try:\n",
    "        for epoch in range(epochs):  # Loop over the dataset multiple times.\n",
    "    \n",
    "            running_loss = 0.0 \n",
    "            for i, data in enumerate(trainloader):\n",
    "\n",
    "                # Get the inputs.\n",
    "                inputs, labels = data\n",
    "                \n",
    "                # Move the inputs to the specified device.\n",
    "                inputs, labels = inputs.to(device), labels.to(device)\n",
    "\n",
    "                # Zero the parameter gradients.\n",
    "                opt.zero_grad()\n",
    "\n",
    "                # Forward step.\n",
    "                outputs = net(inputs)\n",
    "                loss = loss_func(outputs, labels)\n",
    "\n",
    "                # Backward step.\n",
    "  \n",
    "                loss.backward()\n",
    "                # Optimization step (update the parameters).\n",
    "   \n",
    "                opt.step()\n",
    "                # Print statistics.\n",
    "    \n",
    "#                 running_loss += loss.item()\n",
    "#                 if i % print_freq == print_freq - 1: # Print every several mini-batches.\n",
    "    \n",
    "#                     avg_loss = running_loss / print_freq\n",
    "# #                     print('[epoch: {}, i: {:5d}] avg mini-batch loss_net: {:.3f}'.format(\n",
    "# #                         epoch, i, avg_loss))\n",
    "                    \n",
    "    \n",
    "#                     avg_losses.append(avg_loss)\n",
    "   \n",
    "#                     running_loss = 0.0\n",
    "\n",
    "        print('Finished Training.')\n",
    "    except KeyboardInterrupt:\n",
    "        print('Halted Training')"
   ]
  },
  {
   "cell_type": "code",
   "execution_count": 6,
   "metadata": {},
   "outputs": [],
   "source": [
    "def test(net, testloader, device):\n",
    "    # Get test accuracy.\n",
    "    correct_net = 0\n",
    "    net.eval()\n",
    "    total = 0\n",
    "    with torch.no_grad():\n",
    "        for data in testloader:\n",
    "            images, labels = data\n",
    "            images, labels = images.to(device), labels.to(device)\n",
    "            outputs_net = net(images)\n",
    "            \n",
    "            _, predicted_net = torch.max(outputs_net.data, 1)\n",
    "            \n",
    "            total += labels.size(0)\n",
    "            correct_net += (predicted_net == labels).sum().item()\n",
    "            \n",
    "\n",
    "    return (correct_net / total)"
   ]
  },
  {
   "cell_type": "code",
   "execution_count": 9,
   "metadata": {},
   "outputs": [],
   "source": [
    "def train_test(config):\n",
    "    model = cnn()\n",
    "    device = torch.device(\"cuda:0\" if torch.cuda.is_available() else \"cpu\")\n",
    "    model.to(device)\n",
    "    optimizer = optim.SGD(\n",
    "        model.parameters(), lr=config[\"lr\"], momentum=config[\"momentum\"])\n",
    "    loss_func = nn.CrossEntropyLoss()  \n",
    "    for i in range(3):\n",
    "        train(model, optimizer, trainloader, loss_func, device)\n",
    "        acc = test(model, testloader, device)\n",
    "        tune.track.log(mean_accuracy=acc)"
   ]
  },
  {
   "cell_type": "code",
   "execution_count": 10,
   "metadata": {},
   "outputs": [
    {
     "name": "stderr",
     "output_type": "stream",
     "text": [
      "2020-06-10 11:08:08,191\tWARNING tune.py:316 -- Tune detects GPUs, but no trials are using GPUs. To enable trials to use GPUs, set tune.run(resources_per_trial={'gpu': 1}...) which allows Tune to expose 1 GPU to each trial. You can also override `Trainable.default_resource_request` if using the Trainable API.\n",
      "2020-06-10 11:08:08,597\tERROR logger.py:196 -- pip install 'ray[tune]' to see TensorBoard files.\n",
      "2020-06-10 11:08:08,598\tWARNING logger.py:328 -- Could not instantiate TBXLogger: No module named 'tensorboardX'.\n",
      "2020-06-10 11:08:09,199\tWARNING worker.py:1090 -- Warning: The actor WrappedTrackFunc has size 42293844 when pickled. It will be stored in Redis, which could cause memory issues. This may mean that its definition uses a large array or other object.\n"
     ]
    },
    {
     "data": {
      "text/html": [
       "== Status ==<br>Memory usage on this node: 30.9/376.4 GiB<br>Using FIFO scheduling algorithm.<br>Resources requested: 1/64 CPUs, 0/8 GPUs, 0.0/2.88 GiB heap, 0.0/0.98 GiB objects<br>Result logdir: /home/rol044/ray_results/train_test<br>Number of trials: 1 (1 RUNNING)<br><table>\n",
       "<thead>\n",
       "<tr><th>Trial name      </th><th>status  </th><th>loc  </th><th style=\"text-align: right;\">   lr</th><th style=\"text-align: right;\">  momentum</th></tr>\n",
       "</thead>\n",
       "<tbody>\n",
       "<tr><td>train_test_00000</td><td>RUNNING </td><td>     </td><td style=\"text-align: right;\">0.001</td><td style=\"text-align: right;\">   0.51714</td></tr>\n",
       "</tbody>\n",
       "</table><br><br>"
      ],
      "text/plain": [
       "<IPython.core.display.HTML object>"
      ]
     },
     "metadata": {},
     "output_type": "display_data"
    },
    {
     "name": "stdout",
     "output_type": "stream",
     "text": [
      "\u001b[2m\u001b[36m(pid=4910)\u001b[0m 2020-06-10 11:08:10,041\tINFO trainable.py:217 -- Getting current IP.\n",
      "\u001b[2m\u001b[36m(pid=4910)\u001b[0m Finished Training.\n",
      "Result for train_test_00000:\n",
      "  date: 2020-06-10_11-15-09\n",
      "  done: false\n",
      "  experiment_id: 2780b77b0aa24130a639db2bd1c304e3\n",
      "  experiment_tag: 0_lr=0.001,momentum=0.51714\n",
      "  hostname: dsmlp-jupyter-rol044\n",
      "  iterations_since_restore: 1\n",
      "  mean_accuracy: 0.595\n",
      "  node_ip: 10.46.128.10\n",
      "  pid: 4910\n",
      "  time_since_restore: 419.948921918869\n",
      "  time_this_iter_s: 419.948921918869\n",
      "  time_total_s: 419.948921918869\n",
      "  timestamp: 1591812909\n",
      "  timesteps_since_restore: 0\n",
      "  training_iteration: 0\n",
      "  trial_id: '00000'\n",
      "  \n"
     ]
    },
    {
     "data": {
      "text/html": [
       "== Status ==<br>Memory usage on this node: 27.7/376.4 GiB<br>Using FIFO scheduling algorithm.<br>Resources requested: 1/64 CPUs, 0/8 GPUs, 0.0/2.88 GiB heap, 0.0/0.98 GiB objects<br>Result logdir: /home/rol044/ray_results/train_test<br>Number of trials: 1 (1 RUNNING)<br><table>\n",
       "<thead>\n",
       "<tr><th>Trial name      </th><th>status  </th><th>loc              </th><th style=\"text-align: right;\">   lr</th><th style=\"text-align: right;\">  momentum</th><th style=\"text-align: right;\">  acc</th><th style=\"text-align: right;\">  iter</th><th style=\"text-align: right;\">  total time (s)</th></tr>\n",
       "</thead>\n",
       "<tbody>\n",
       "<tr><td>train_test_00000</td><td>RUNNING </td><td>10.46.128.10:4910</td><td style=\"text-align: right;\">0.001</td><td style=\"text-align: right;\">   0.51714</td><td style=\"text-align: right;\">0.595</td><td style=\"text-align: right;\">     0</td><td style=\"text-align: right;\">         419.949</td></tr>\n",
       "</tbody>\n",
       "</table><br><br>"
      ],
      "text/plain": [
       "<IPython.core.display.HTML object>"
      ]
     },
     "metadata": {},
     "output_type": "display_data"
    },
    {
     "name": "stdout",
     "output_type": "stream",
     "text": [
      "\u001b[2m\u001b[36m(pid=4910)\u001b[0m Finished Training.\n",
      "Result for train_test_00000:\n",
      "  date: 2020-06-10_11-21-45\n",
      "  done: false\n",
      "  experiment_id: 2780b77b0aa24130a639db2bd1c304e3\n",
      "  experiment_tag: 0_lr=0.001,momentum=0.51714\n",
      "  hostname: dsmlp-jupyter-rol044\n",
      "  iterations_since_restore: 2\n",
      "  mean_accuracy: 0.71\n",
      "  node_ip: 10.46.128.10\n",
      "  pid: 4910\n",
      "  time_since_restore: 815.6569902896881\n",
      "  time_this_iter_s: 395.7080683708191\n",
      "  time_total_s: 815.6569902896881\n",
      "  timestamp: 1591813305\n",
      "  timesteps_since_restore: 0\n",
      "  training_iteration: 1\n",
      "  trial_id: '00000'\n",
      "  \n"
     ]
    },
    {
     "data": {
      "text/html": [
       "== Status ==<br>Memory usage on this node: 28.0/376.4 GiB<br>Using FIFO scheduling algorithm.<br>Resources requested: 1/64 CPUs, 0/8 GPUs, 0.0/2.88 GiB heap, 0.0/0.98 GiB objects<br>Result logdir: /home/rol044/ray_results/train_test<br>Number of trials: 1 (1 RUNNING)<br><table>\n",
       "<thead>\n",
       "<tr><th>Trial name      </th><th>status  </th><th>loc              </th><th style=\"text-align: right;\">   lr</th><th style=\"text-align: right;\">  momentum</th><th style=\"text-align: right;\">  acc</th><th style=\"text-align: right;\">  iter</th><th style=\"text-align: right;\">  total time (s)</th></tr>\n",
       "</thead>\n",
       "<tbody>\n",
       "<tr><td>train_test_00000</td><td>RUNNING </td><td>10.46.128.10:4910</td><td style=\"text-align: right;\">0.001</td><td style=\"text-align: right;\">   0.51714</td><td style=\"text-align: right;\"> 0.71</td><td style=\"text-align: right;\">     1</td><td style=\"text-align: right;\">         815.657</td></tr>\n",
       "</tbody>\n",
       "</table><br><br>"
      ],
      "text/plain": [
       "<IPython.core.display.HTML object>"
      ]
     },
     "metadata": {},
     "output_type": "display_data"
    },
    {
     "name": "stdout",
     "output_type": "stream",
     "text": [
      "\u001b[2m\u001b[36m(pid=4910)\u001b[0m Finished Training.\n",
      "Result for train_test_00000:\n",
      "  date: 2020-06-10_11-27-57\n",
      "  done: false\n",
      "  experiment_id: 2780b77b0aa24130a639db2bd1c304e3\n",
      "  experiment_tag: 0_lr=0.001,momentum=0.51714\n",
      "  hostname: dsmlp-jupyter-rol044\n",
      "  iterations_since_restore: 3\n",
      "  mean_accuracy: 0.685\n",
      "  node_ip: 10.46.128.10\n",
      "  pid: 4910\n",
      "  time_since_restore: 1187.1576597690582\n",
      "  time_this_iter_s: 371.5006694793701\n",
      "  time_total_s: 1187.1576597690582\n",
      "  timestamp: 1591813677\n",
      "  timesteps_since_restore: 0\n",
      "  training_iteration: 2\n",
      "  trial_id: '00000'\n",
      "  \n"
     ]
    },
    {
     "data": {
      "text/html": [
       "== Status ==<br>Memory usage on this node: 27.9/376.4 GiB<br>Using FIFO scheduling algorithm.<br>Resources requested: 1/64 CPUs, 0/8 GPUs, 0.0/2.88 GiB heap, 0.0/0.98 GiB objects<br>Result logdir: /home/rol044/ray_results/train_test<br>Number of trials: 1 (1 RUNNING)<br><table>\n",
       "<thead>\n",
       "<tr><th>Trial name      </th><th>status  </th><th>loc              </th><th style=\"text-align: right;\">   lr</th><th style=\"text-align: right;\">  momentum</th><th style=\"text-align: right;\">  acc</th><th style=\"text-align: right;\">  iter</th><th style=\"text-align: right;\">  total time (s)</th></tr>\n",
       "</thead>\n",
       "<tbody>\n",
       "<tr><td>train_test_00000</td><td>RUNNING </td><td>10.46.128.10:4910</td><td style=\"text-align: right;\">0.001</td><td style=\"text-align: right;\">   0.51714</td><td style=\"text-align: right;\">0.685</td><td style=\"text-align: right;\">     2</td><td style=\"text-align: right;\">         1187.16</td></tr>\n",
       "</tbody>\n",
       "</table><br><br>"
      ],
      "text/plain": [
       "<IPython.core.display.HTML object>"
      ]
     },
     "metadata": {},
     "output_type": "display_data"
    },
    {
     "data": {
      "text/html": [
       "== Status ==<br>Memory usage on this node: 27.9/376.4 GiB<br>Using FIFO scheduling algorithm.<br>Resources requested: 0/64 CPUs, 0/8 GPUs, 0.0/2.88 GiB heap, 0.0/0.98 GiB objects<br>Result logdir: /home/rol044/ray_results/train_test<br>Number of trials: 1 (1 TERMINATED)<br><table>\n",
       "<thead>\n",
       "<tr><th>Trial name      </th><th>status    </th><th>loc  </th><th style=\"text-align: right;\">   lr</th><th style=\"text-align: right;\">  momentum</th><th style=\"text-align: right;\">  acc</th><th style=\"text-align: right;\">  iter</th><th style=\"text-align: right;\">  total time (s)</th></tr>\n",
       "</thead>\n",
       "<tbody>\n",
       "<tr><td>train_test_00000</td><td>TERMINATED</td><td>     </td><td style=\"text-align: right;\">0.001</td><td style=\"text-align: right;\">   0.51714</td><td style=\"text-align: right;\">0.685</td><td style=\"text-align: right;\">     2</td><td style=\"text-align: right;\">         1187.16</td></tr>\n",
       "</tbody>\n",
       "</table><br><br>"
      ],
      "text/plain": [
       "<IPython.core.display.HTML object>"
      ]
     },
     "metadata": {},
     "output_type": "display_data"
    }
   ],
   "source": [
    "search_space = {\n",
    "    \"lr\": tune.choice([0.001, 0.01, 0.1]),\n",
    "    \"momentum\": tune.uniform(0.1, 0.9)\n",
    "}\n",
    "analysis = tune.run(train_test, config=search_space)"
   ]
  },
  {
   "cell_type": "code",
   "execution_count": 11,
   "metadata": {},
   "outputs": [
    {
     "data": {
      "image/png": "[encoded data removed]",
      "text/plain": [
       "<Figure size 432x288 with 1 Axes>"
      ]
     },
     "metadata": {
      "needs_background": "light"
     },
     "output_type": "display_data"
    }
   ],
   "source": [
    "dfs = analysis.trial_dataframes\n",
    "\n",
    "# Plot by epoch\n",
    "ax = None  # This plots everything on the same plot\n",
    "for d in dfs.values():\n",
    "    ax = d.mean_accuracy.plot(ax=ax, legend=False)"
   ]
  },
  {
   "cell_type": "code",
   "execution_count": 15,
   "metadata": {},
   "outputs": [
    {
     "data": {
      "text/plain": [
       "{'_global_time_limit': inf,\n",
       " '_total_time': 1558.6583292484283,\n",
       " '_iteration': 5,\n",
       " '_has_errored': False,\n",
       " '_fail_fast': False,\n",
       " '_verbose': True,\n",
       " '_server_port': 4321,\n",
       " '_cached_trial_decisions': {},\n",
       " '_should_stop_experiment': False,\n",
       " '_local_checkpoint_dir': '/home/rol044/ray_results/train_test',\n",
       " '_remote_checkpoint_dir': None,\n",
       " '_stopper': {'_type': 'CLOUDPICKLE_FALLBACK',\n",
       "  'value': '80049527000000000000008c107261792e74756e652e73746f70706572948c0b4e6f6f7053746f707065729493942981942e'},\n",
       " '_resumed': False,\n",
       " '_start_time': 1591812487.9376132,\n",
       " '_last_checkpoint_time': 1591813677.2461417,\n",
       " '_checkpoint_period': 10,\n",
       " '_session_str': '2020-06-10_11-08-07',\n",
       " 'checkpoint_file': '/home/rol044/ray_results/train_test/experiment_state-2020-06-10_11-08-07.json',\n",
       " 'launch_web_server': False}"
      ]
     },
     "execution_count": 15,
     "metadata": {},
     "output_type": "execute_result"
    }
   ],
   "source": [
    "analysis.runner_data()"
   ]
  },
  {
   "cell_type": "code",
   "execution_count": 24,
   "metadata": {},
   "outputs": [
    {
     "data": {
      "text/plain": [
       "{'/home/rol044/ray_results/train_test/train_test_0_lr=0.001,momentum=0.51714_2020-06-10_11-08-08rsbw9kg5':    mean_accuracy  trial_id  training_iteration  time_this_iter_s   done  \\\n",
       " 0          0.595         0                   0        419.948922  False   \n",
       " 1          0.710         0                   1        395.708068  False   \n",
       " 2          0.685         0                   2        371.500669  False   \n",
       " \n",
       "    timesteps_total  episodes_total                     experiment_id  \\\n",
       " 0              NaN             NaN  2780b77b0aa24130a639db2bd1c304e3   \n",
       " 1              NaN             NaN  2780b77b0aa24130a639db2bd1c304e3   \n",
       " 2              NaN             NaN  2780b77b0aa24130a639db2bd1c304e3   \n",
       " \n",
       "                   date   timestamp  time_total_s   pid              hostname  \\\n",
       " 0  2020-06-10_11-15-09  1591812909    419.948922  4910  dsmlp-jupyter-rol044   \n",
       " 1  2020-06-10_11-21-45  1591813305    815.656990  4910  dsmlp-jupyter-rol044   \n",
       " 2  2020-06-10_11-27-57  1591813677   1187.157660  4910  dsmlp-jupyter-rol044   \n",
       " \n",
       "         node_ip  time_since_restore  timesteps_since_restore  \\\n",
       " 0  10.46.128.10          419.948922                        0   \n",
       " 1  10.46.128.10          815.656990                        0   \n",
       " 2  10.46.128.10         1187.157660                        0   \n",
       " \n",
       "    iterations_since_restore               experiment_tag  \n",
       " 0                         1  0_lr=0.001,momentum=0.51714  \n",
       " 1                         2  0_lr=0.001,momentum=0.51714  \n",
       " 2                         3  0_lr=0.001,momentum=0.51714  }"
      ]
     },
     "execution_count": 24,
     "metadata": {},
     "output_type": "execute_result"
    }
   ],
   "source": [
    "dfs"
   ]
  },
  {
   "cell_type": "code",
   "execution_count": null,
   "metadata": {},
   "outputs": [],
   "source": []
  }
 ],
 "metadata": {
  "kernelspec": {
   "display_name": "Python 3",
   "language": "python",
   "name": "python3"
  },
  "language_info": {
   "codemirror_mode": {
    "name": "ipython",
    "version": 3
   },
   "file_extension": ".py",
   "mimetype": "text/x-python",
   "name": "python",
   "nbconvert_exporter": "python",
   "pygments_lexer": "ipython3",
   "version": "3.7.3"
  }
 },
 "nbformat": 4,
 "nbformat_minor": 2
}
