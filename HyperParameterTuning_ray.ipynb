{
 "cells": [
  {
   "cell_type": "code",
   "execution_count": 1,
   "metadata": {},
   "outputs": [],
   "source": [
    "import numpy as np\n",
    "import torch\n",
    "import torch.optim as optim\n",
    "import torch.nn as nn\n",
    "import torch.nn.functional as F\n",
    "\n",
    "\n",
    "from ray import tune\n",
    "from ray.tune.examples.mnist_pytorch import get_data_loaders, train, test"
   ]
  },
  {
   "cell_type": "code",
   "execution_count": 2,
   "metadata": {},
   "outputs": [
    {
     "name": "stdout",
     "output_type": "stream",
     "text": [
      "cpu\n"
     ]
    }
   ],
   "source": [
    "import numpy as np\n",
    "import random\n",
    "import sys\n",
    "import pickle\n",
    "import matplotlib.pyplot as plt\n",
    "from sklearn import datasets\n",
    "from sklearn.metrics import accuracy_score\n",
    "import seaborn as sns\n",
    "\n",
    "import torch\n",
    "import torchvision\n",
    "import torchvision.transforms as transforms\n",
    "from torch.utils.data import Dataset, DataLoader\n",
    "import torch.nn as nn\n",
    "import torch.nn.functional as F\n",
    "import torch.optim as optim\n",
    "from skorch import NeuralNetRegressor\n",
    "\n",
    "from sklearn.model_selection import GridSearchCV\n",
    "from collections import defaultdict\n",
    "from sklearn import metrics\n",
    "import pandas as pd\n",
    "\n",
    "# device = torch.device(\"cuda:0\" if torch.cuda.is_available() else \"cpu\")\n",
    "device = torch.device('cpu')\n",
    "print(device)  "
   ]
  },
  {
   "cell_type": "markdown",
   "metadata": {},
   "source": [
    "### load pre-process data"
   ]
  },
  {
   "cell_type": "code",
   "execution_count": 3,
   "metadata": {},
   "outputs": [],
   "source": [
    "class GTZANDataset(Dataset):\n",
    "    def __init__(self, data, transform=None):\n",
    "        self.data = data\n",
    "        self.transform = transform\n",
    "\n",
    "    def __len__(self):\n",
    "        return len(self.data)\n",
    "\n",
    "    def __getitem__(self, idx):\n",
    "        x = self.data[idx][0]\n",
    "        y = self.data[idx][1]\n",
    "        \n",
    "        if self.transform:\n",
    "            x = self.transform(x)\n",
    "        \n",
    "        x = torch.Tensor(x)\n",
    "\n",
    "        return (x, y)\n",
    "\n",
    "batch_size = 1\n",
    "\n",
    "\n",
    "transform = transforms.Compose(\n",
    "    [transforms.ToTensor(),\n",
    "     transforms.Normalize((0.5, 0.5, 0.5), (0.5, 0.5, 0.5))])\n",
    "\n",
    "raw_trainset = pickle.load(open('GTZAN.train', 'rb'))\n",
    "trainset = GTZANDataset(raw_trainset)\n",
    "trainloader = torch.utils.data.DataLoader(trainset, batch_size=batch_size,\n",
    "                                          shuffle=True, num_workers=0)\n",
    "\n",
    "raw_testset = pickle.load(open('GTZAN.test', 'rb'))\n",
    "testset = GTZANDataset(raw_testset)\n",
    "testloader = torch.utils.data.DataLoader(testset, batch_size=batch_size,\n",
    "                                          shuffle=True, num_workers=0)\n",
    "\n",
    "\n",
    "classes = ('blues', 'classical', 'country', 'disco', 'hiphop', 'jazz', 'metal', 'pop', 'reggae', 'rock')"
   ]
  },
  {
   "cell_type": "code",
   "execution_count": 4,
   "metadata": {},
   "outputs": [],
   "source": [
    "class Net(nn.Module):  \n",
    "    def __init__(self):\n",
    "        super(Net, self).__init__()\n",
    "        self.conv1 = nn.Conv2d(in_channels=1, out_channels=10, kernel_size=3, stride=1, padding=1)\n",
    "        self.pool = nn.MaxPool2d(2, 2)\n",
    "        self.conv2 = nn.Conv2d(in_channels=10, out_channels=20, kernel_size=3, stride=1, padding=1)\n",
    "        self.fc1 = nn.Linear(20*32*161, 100) # Get the vector of the layer right before the final fc layer and plot tfidf\n",
    "        self.fc2 = nn.Linear(100, 10) \n",
    "        \n",
    "    def forward(self, x):\n",
    "        x = self.pool(F.relu(self.conv1(x)))\n",
    "        x = self.pool(F.relu(self.conv2(x)))\n",
    "        x = x.view(-1, 20*32*161)\n",
    "        x = F.relu(self.fc1(x))\n",
    "        x = self.fc2(x)\n",
    "        \n",
    "        return x"
   ]
  },
  {
   "cell_type": "code",
   "execution_count": 5,
   "metadata": {},
   "outputs": [],
   "source": [
    "def train(net, opt, trainloader, loss_func): \n",
    "   \n",
    "    avg_losses = []   # Avg. losses.\n",
    "   \n",
    "    epochs = 10       # Total epochs.\n",
    "    print_freq = 100  # Print frequency.\n",
    "\n",
    "    try:\n",
    "        for epoch in range(epochs):  # Loop over the dataset multiple times.\n",
    "    \n",
    "            running_loss = 0.0 \n",
    "            for i, data in enumerate(trainloader, 0):\n",
    "\n",
    "                # Get the inputs.\n",
    "                inputs, labels = data\n",
    "                \n",
    "                # Move the inputs to the specified device.\n",
    "                inputs, labels = inputs.to(device), labels.to(device)\n",
    "\n",
    "                # Zero the parameter gradients.\n",
    "                opt.zero_grad()\n",
    "\n",
    "                # Forward step.\n",
    "                outputs = net(inputs)\n",
    "                loss = loss_func(outputs, labels)\n",
    "\n",
    "                # Backward step.\n",
    "  \n",
    "                loss.backward()\n",
    "                # Optimization step (update the parameters).\n",
    "   \n",
    "                opt.step()\n",
    "                # Print statistics.\n",
    "    \n",
    "                running_loss += loss.item()\n",
    "                if i % print_freq == print_freq - 1: # Print every several mini-batches.\n",
    "    \n",
    "                    avg_loss = running_loss / print_freq\n",
    "#                     print('[epoch: {}, i: {:5d}] avg mini-batch loss_net: {:.3f}'.format(\n",
    "#                         epoch, i, avg_loss))\n",
    "                    \n",
    "    \n",
    "                    avg_losses.append(avg_loss)\n",
    "   \n",
    "                    running_loss = 0.0\n",
    "\n",
    "        print('Finished Training.')\n",
    "    except KeyboardInterrupt:\n",
    "        print('Halted Training')"
   ]
  },
  {
   "cell_type": "code",
   "execution_count": 6,
   "metadata": {},
   "outputs": [],
   "source": [
    "def test(net, testloader):\n",
    "    # Get test accuracy.\n",
    "    correct_net = 0\n",
    "   \n",
    "    total = 0\n",
    "    with torch.no_grad():\n",
    "        for data in testloader:\n",
    "            images, labels = data\n",
    "            images, labels = images.to(device), labels.to(device)\n",
    "            outputs_net = net(images)\n",
    "            \n",
    "            _, predicted_net = torch.max(outputs_net.data, 1)\n",
    "            \n",
    "            total += labels.size(0)\n",
    "            correct_net += (predicted_net == labels).sum().item()\n",
    "            \n",
    "\n",
    "#     print('Net: Accuracy of the network on the 10000 test images: %d %%' % (\n",
    "#         100 * correct_net / total))\n",
    "    return (100 * correct_net / total)"
   ]
  },
  {
   "cell_type": "code",
   "execution_count": 7,
   "metadata": {},
   "outputs": [],
   "source": [
    "def train_test(config):\n",
    "    model = Net()\n",
    "    optimizer = optim.SGD(\n",
    "        model.parameters(), lr=config[\"lr\"], momentum=config[\"momentum\"])\n",
    "    loss_func = nn.CrossEntropyLoss()  \n",
    "    for i in range(3):\n",
    "        train(model, optimizer, trainloader, loss_func)\n",
    "        acc = test(model, testloader)\n",
    "        tune.track.log(mean_accuracy=acc)"
   ]
  },
  {
   "cell_type": "code",
   "execution_count": 8,
   "metadata": {},
   "outputs": [
    {
     "name": "stderr",
     "output_type": "stream",
     "text": [
      "2020-06-09 13:43:17,550\tINFO resource_spec.py:212 -- Starting Ray with 4.54 GiB memory available for workers and up to 2.29 GiB for objects. You can adjust these settings with ray.init(memory=<bytes>, object_store_memory=<bytes>).\n",
      "2020-06-09 13:43:18,220\tINFO services.py:1170 -- View the Ray dashboard at \u001b[1m\u001b[32mlocalhost:8265\u001b[39m\u001b[22m\n",
      "2020-06-09 13:43:25,183\tWARNING worker.py:1090 -- The dashboard on node dsmlp-jupyter-rol044 failed with the following error:\n",
      "Traceback (most recent call last):\n",
      "  File \"/home/rol044/.local/lib/python3.7/site-packages/ray/dashboard/dashboard.py\", line 1220, in <module>\n",
      "    dashboard.run()\n",
      "  File \"/home/rol044/.local/lib/python3.7/site-packages/ray/dashboard/dashboard.py\", line 594, in run\n",
      "    aiohttp.web.run_app(self.app, host=self.host, port=self.port)\n",
      "  File \"/home/rol044/.local/lib/python3.7/site-packages/aiohttp/web.py\", line 433, in run_app\n",
      "    reuse_port=reuse_port))\n",
      "  File \"/opt/conda/lib/python3.7/asyncio/base_events.py\", line 584, in run_until_complete\n",
      "    return future.result()\n",
      "  File \"/home/rol044/.local/lib/python3.7/site-packages/aiohttp/web.py\", line 359, in _run_app\n",
      "    await site.start()\n",
      "  File \"/home/rol044/.local/lib/python3.7/site-packages/aiohttp/web_runner.py\", line 104, in start\n",
      "    reuse_port=self._reuse_port)\n",
      "  File \"/opt/conda/lib/python3.7/asyncio/base_events.py\", line 1378, in create_server\n",
      "    % (sa, err.strerror.lower())) from None\n",
      "OSError: [Errno 99] error while attempting to bind on address ('::1', 8265, 0, 0): cannot assign requested address\n",
      "\n",
      "2020-06-09 13:43:30,462\tWARNING tune.py:316 -- Tune detects GPUs, but no trials are using GPUs. To enable trials to use GPUs, set tune.run(resources_per_trial={'gpu': 1}...) which allows Tune to expose 1 GPU to each trial. You can also override `Trainable.default_resource_request` if using the Trainable API.\n",
      "2020-06-09 13:43:34,188\tERROR logger.py:196 -- pip install 'ray[tune]' to see TensorBoard files.\n",
      "2020-06-09 13:43:34,190\tWARNING logger.py:328 -- Could not instantiate TBXLogger: No module named 'tensorboardX'.\n",
      "2020-06-09 13:43:39,771\tWARNING worker.py:1090 -- Warning: The actor WrappedTrackFunc has size 331327879 when pickled. It will be stored in Redis, which could cause memory issues. This may mean that its definition uses a large array or other object.\n"
     ]
    },
    {
     "data": {
      "text/html": [
       "== Status ==<br>Memory usage on this node: 26.1/251.6 GiB<br>Using FIFO scheduling algorithm.<br>Resources requested: 1/40 CPUs, 0/8 GPUs, 0.0/4.54 GiB heap, 0.0/1.56 GiB objects<br>Result logdir: /home/rol044/ray_results/train_test<br>Number of trials: 1 (1 RUNNING)<br><table>\n",
       "<thead>\n",
       "<tr><th>Trial name      </th><th>status  </th><th>loc  </th><th style=\"text-align: right;\">   lr</th><th style=\"text-align: right;\">  momentum</th></tr>\n",
       "</thead>\n",
       "<tbody>\n",
       "<tr><td>train_test_00000</td><td>RUNNING </td><td>     </td><td style=\"text-align: right;\">0.001</td><td style=\"text-align: right;\">  0.647844</td></tr>\n",
       "</tbody>\n",
       "</table><br><br>"
      ],
      "text/plain": [
       "<IPython.core.display.HTML object>"
      ]
     },
     "metadata": {},
     "output_type": "display_data"
    },
    {
     "name": "stdout",
     "output_type": "stream",
     "text": [
      "\u001b[2m\u001b[36m(pid=3057)\u001b[0m 2020-06-09 13:43:42,451\tINFO trainable.py:217 -- Getting current IP.\n",
      "\u001b[2m\u001b[36m(pid=3057)\u001b[0m Finished Training.\n",
      "Result for train_test_00000:\n",
      "  date: 2020-06-09_14-16-54\n",
      "  done: false\n",
      "  experiment_id: 8e1a53f40cf34a4186d823aac51d4bbc\n",
      "  experiment_tag: 0_lr=0.001,momentum=0.64784\n",
      "  hostname: dsmlp-jupyter-rol044\n",
      "  iterations_since_restore: 1\n",
      "  mean_accuracy: 33.0\n",
      "  node_ip: 10.36.0.2\n",
      "  pid: 3057\n",
      "  time_since_restore: 1991.6068246364594\n",
      "  time_this_iter_s: 1991.6068246364594\n",
      "  time_total_s: 1991.6068246364594\n",
      "  timestamp: 1591737414\n",
      "  timesteps_since_restore: 0\n",
      "  training_iteration: 0\n",
      "  trial_id: '00000'\n",
      "  \n"
     ]
    },
    {
     "data": {
      "text/html": [
       "== Status ==<br>Memory usage on this node: 32.1/251.6 GiB<br>Using FIFO scheduling algorithm.<br>Resources requested: 1/40 CPUs, 0/8 GPUs, 0.0/4.54 GiB heap, 0.0/1.56 GiB objects<br>Result logdir: /home/rol044/ray_results/train_test<br>Number of trials: 1 (1 RUNNING)<br><table>\n",
       "<thead>\n",
       "<tr><th>Trial name      </th><th>status  </th><th>loc           </th><th style=\"text-align: right;\">   lr</th><th style=\"text-align: right;\">  momentum</th><th style=\"text-align: right;\">  acc</th><th style=\"text-align: right;\">  iter</th><th style=\"text-align: right;\">  total time (s)</th></tr>\n",
       "</thead>\n",
       "<tbody>\n",
       "<tr><td>train_test_00000</td><td>RUNNING </td><td>10.36.0.2:3057</td><td style=\"text-align: right;\">0.001</td><td style=\"text-align: right;\">  0.647844</td><td style=\"text-align: right;\">   33</td><td style=\"text-align: right;\">     0</td><td style=\"text-align: right;\">         1991.61</td></tr>\n",
       "</tbody>\n",
       "</table><br><br>"
      ],
      "text/plain": [
       "<IPython.core.display.HTML object>"
      ]
     },
     "metadata": {},
     "output_type": "display_data"
    },
    {
     "name": "stdout",
     "output_type": "stream",
     "text": [
      "\u001b[2m\u001b[36m(pid=3057)\u001b[0m Finished Training.\n",
      "Result for train_test_00000:\n",
      "  date: 2020-06-09_14-49-50\n",
      "  done: false\n",
      "  experiment_id: 8e1a53f40cf34a4186d823aac51d4bbc\n",
      "  experiment_tag: 0_lr=0.001,momentum=0.64784\n",
      "  hostname: dsmlp-jupyter-rol044\n",
      "  iterations_since_restore: 2\n",
      "  mean_accuracy: 39.5\n",
      "  node_ip: 10.36.0.2\n",
      "  pid: 3057\n",
      "  time_since_restore: 3968.453826904297\n",
      "  time_this_iter_s: 1976.8470022678375\n",
      "  time_total_s: 3968.453826904297\n",
      "  timestamp: 1591739390\n",
      "  timesteps_since_restore: 0\n",
      "  training_iteration: 1\n",
      "  trial_id: '00000'\n",
      "  \n"
     ]
    },
    {
     "data": {
      "text/html": [
       "== Status ==<br>Memory usage on this node: 30.4/251.6 GiB<br>Using FIFO scheduling algorithm.<br>Resources requested: 1/40 CPUs, 0/8 GPUs, 0.0/4.54 GiB heap, 0.0/1.56 GiB objects<br>Result logdir: /home/rol044/ray_results/train_test<br>Number of trials: 1 (1 RUNNING)<br><table>\n",
       "<thead>\n",
       "<tr><th>Trial name      </th><th>status  </th><th>loc           </th><th style=\"text-align: right;\">   lr</th><th style=\"text-align: right;\">  momentum</th><th style=\"text-align: right;\">  acc</th><th style=\"text-align: right;\">  iter</th><th style=\"text-align: right;\">  total time (s)</th></tr>\n",
       "</thead>\n",
       "<tbody>\n",
       "<tr><td>train_test_00000</td><td>RUNNING </td><td>10.36.0.2:3057</td><td style=\"text-align: right;\">0.001</td><td style=\"text-align: right;\">  0.647844</td><td style=\"text-align: right;\"> 39.5</td><td style=\"text-align: right;\">     1</td><td style=\"text-align: right;\">         3968.45</td></tr>\n",
       "</tbody>\n",
       "</table><br><br>"
      ],
      "text/plain": [
       "<IPython.core.display.HTML object>"
      ]
     },
     "metadata": {},
     "output_type": "display_data"
    },
    {
     "name": "stdout",
     "output_type": "stream",
     "text": [
      "\u001b[2m\u001b[36m(pid=3057)\u001b[0m Finished Training.\n",
      "Result for train_test_00000:\n",
      "  date: 2020-06-09_15-22-02\n",
      "  done: false\n",
      "  experiment_id: 8e1a53f40cf34a4186d823aac51d4bbc\n",
      "  experiment_tag: 0_lr=0.001,momentum=0.64784\n",
      "  hostname: dsmlp-jupyter-rol044\n",
      "  iterations_since_restore: 3\n",
      "  mean_accuracy: 39.0\n",
      "  node_ip: 10.36.0.2\n",
      "  pid: 3057\n",
      "  time_since_restore: 5900.243527889252\n",
      "  time_this_iter_s: 1931.7897009849548\n",
      "  time_total_s: 5900.243527889252\n",
      "  timestamp: 1591741322\n",
      "  timesteps_since_restore: 0\n",
      "  training_iteration: 2\n",
      "  trial_id: '00000'\n",
      "  \n"
     ]
    },
    {
     "data": {
      "text/html": [
       "== Status ==<br>Memory usage on this node: 32.1/251.6 GiB<br>Using FIFO scheduling algorithm.<br>Resources requested: 1/40 CPUs, 0/8 GPUs, 0.0/4.54 GiB heap, 0.0/1.56 GiB objects<br>Result logdir: /home/rol044/ray_results/train_test<br>Number of trials: 1 (1 RUNNING)<br><table>\n",
       "<thead>\n",
       "<tr><th>Trial name      </th><th>status  </th><th>loc           </th><th style=\"text-align: right;\">   lr</th><th style=\"text-align: right;\">  momentum</th><th style=\"text-align: right;\">  acc</th><th style=\"text-align: right;\">  iter</th><th style=\"text-align: right;\">  total time (s)</th></tr>\n",
       "</thead>\n",
       "<tbody>\n",
       "<tr><td>train_test_00000</td><td>RUNNING </td><td>10.36.0.2:3057</td><td style=\"text-align: right;\">0.001</td><td style=\"text-align: right;\">  0.647844</td><td style=\"text-align: right;\">   39</td><td style=\"text-align: right;\">     2</td><td style=\"text-align: right;\">         5900.24</td></tr>\n",
       "</tbody>\n",
       "</table><br><br>"
      ],
      "text/plain": [
       "<IPython.core.display.HTML object>"
      ]
     },
     "metadata": {},
     "output_type": "display_data"
    },
    {
     "data": {
      "text/html": [
       "== Status ==<br>Memory usage on this node: 32.1/251.6 GiB<br>Using FIFO scheduling algorithm.<br>Resources requested: 0/40 CPUs, 0/8 GPUs, 0.0/4.54 GiB heap, 0.0/1.56 GiB objects<br>Result logdir: /home/rol044/ray_results/train_test<br>Number of trials: 1 (1 TERMINATED)<br><table>\n",
       "<thead>\n",
       "<tr><th>Trial name      </th><th>status    </th><th>loc  </th><th style=\"text-align: right;\">   lr</th><th style=\"text-align: right;\">  momentum</th><th style=\"text-align: right;\">  acc</th><th style=\"text-align: right;\">  iter</th><th style=\"text-align: right;\">  total time (s)</th></tr>\n",
       "</thead>\n",
       "<tbody>\n",
       "<tr><td>train_test_00000</td><td>TERMINATED</td><td>     </td><td style=\"text-align: right;\">0.001</td><td style=\"text-align: right;\">  0.647844</td><td style=\"text-align: right;\">   39</td><td style=\"text-align: right;\">     2</td><td style=\"text-align: right;\">         5900.24</td></tr>\n",
       "</tbody>\n",
       "</table><br><br>"
      ],
      "text/plain": [
       "<IPython.core.display.HTML object>"
      ]
     },
     "metadata": {},
     "output_type": "display_data"
    }
   ],
   "source": [
    "search_space = {\n",
    "    \"lr\": tune.choice([0.001, 0.01, 0.1]),\n",
    "    \"momentum\": tune.uniform(0.1, 0.9)\n",
    "}\n",
    "analysis = tune.run(train_test, config=search_space)"
   ]
  },
  {
   "cell_type": "code",
   "execution_count": 9,
   "metadata": {},
   "outputs": [
    {
     "data": {
      "image/png": "[encoded data removed]",
      "text/plain": [
       "<Figure size 432x288 with 1 Axes>"
      ]
     },
     "metadata": {
      "needs_background": "light"
     },
     "output_type": "display_data"
    }
   ],
   "source": [
    "dfs = analysis.trial_dataframes\n",
    "\n",
    "# Plot by epoch\n",
    "ax = None  # This plots everything on the same plot\n",
    "for d in dfs.values():\n",
    "    ax = d.mean_accuracy.plot(ax=ax, legend=False)"
   ]
  },
  {
   "cell_type": "code",
   "execution_count": null,
   "metadata": {},
   "outputs": [],
   "source": []
  }
 ],
 "metadata": {
  "kernelspec": {
   "display_name": "Python 3",
   "language": "python",
   "name": "python3"
  },
  "language_info": {
   "codemirror_mode": {
    "name": "ipython",
    "version": 3
   },
   "file_extension": ".py",
   "mimetype": "text/x-python",
   "name": "python",
   "nbconvert_exporter": "python",
   "pygments_lexer": "ipython3",
   "version": "3.7.3"
  }
 },
 "nbformat": 4,
 "nbformat_minor": 2
}
