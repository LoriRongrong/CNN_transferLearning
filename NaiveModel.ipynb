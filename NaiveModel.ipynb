{
  "nbformat": 4,
  "nbformat_minor": 0,
  "metadata": {
    "colab": {
      "name": "NaiveModel.ipynb",
      "provenance": [],
      "collapsed_sections": []
    },
    "kernelspec": {
      "name": "python3",
      "display_name": "Python 3"
    },
    "accelerator": "GPU"
  },
  "cells": [
    {
      "cell_type": "code",
      "metadata": {
        "id": "XiVCx5SyT0yI",
        "colab_type": "code",
        "colab": {}
      },
      "source": [
        "%matplotlib inline\n",
        "import matplotlib.pyplot as plt\n",
        "import numpy as np\n",
        "import torch\n",
        "import torchvision\n",
        "import torchvision.transforms as transforms\n",
        "from torch.utils.data import Dataset, DataLoader\n",
        "import torch.nn as nn\n",
        "import torch.nn.functional as F\n",
        "import torch.optim as optim\n",
        "import seaborn as sn\n",
        "import pandas as pd\n",
        "import pickle\n",
        "from collections import defaultdict\n",
        "from sklearn import metrics\n",
        "from torch.optim import lr_scheduler\n",
        "from torchvision import datasets\n",
        "import os"
      ],
      "execution_count": 0,
      "outputs": []
    },
    {
      "cell_type": "code",
      "metadata": {
        "id": "_mC-Xu7SUaAx",
        "colab_type": "code",
        "outputId": "7fbf42f0-31b3-4808-ef25-06c736d08907",
        "colab": {
          "base_uri": "https://localhost:8080/",
          "height": 34
        }
      },
      "source": [
        "class Dataset(Dataset):\n",
        "    def __init__(self, data, transform=None):\n",
        "        self.data = data\n",
        "        self.transform = transform\n",
        "\n",
        "    def __len__(self):\n",
        "        return len(self.data)\n",
        "\n",
        "    def __getitem__(self, idx):\n",
        "        x = self.data[idx][0]\n",
        "        y = self.data[idx][1]\n",
        "        \n",
        "        if self.transform:\n",
        "            x = self.transform(x)\n",
        "        \n",
        "        x = torch.Tensor(x)\n",
        "\n",
        "        return (x, y)\n",
        "\n",
        "from google.colab import drive\n",
        "drive.mount('/content/drive')\n",
        "drive_dir = '/content/drive/My Drive/COGS 181 Final Datasets/'"
      ],
      "execution_count": 191,
      "outputs": [
        {
          "output_type": "stream",
          "text": [
            "Drive already mounted at /content/drive; to attempt to forcibly remount, call drive.mount(\"/content/drive\", force_remount=True).\n"
          ],
          "name": "stdout"
        }
      ]
    },
    {
      "cell_type": "code",
      "metadata": {
        "id": "s3SuL8faUjQE",
        "colab_type": "code",
        "outputId": "506779ce-483b-4743-ad11-2b58093287e0",
        "colab": {
          "base_uri": "https://localhost:8080/",
          "height": 67
        }
      },
      "source": [
        "batch_size = 32\n",
        "num_workers = 2\n",
        "\n",
        "transform = transforms.Compose(\n",
        "    [transforms.ToTensor(),])\n",
        "     #transforms.Normalize((0.5, 0.5, 0.5), (0.5, 0.5, 0.5))])\n",
        "\n",
        "\n",
        "\n",
        "\n",
        "# GTZAN\n",
        "GTZAN_data = pickle.load(open(drive_dir + 'GTZAN/GTZAN_165x32_normalized.train', 'rb'))\n",
        "GTZAN_trainset = Dataset(GTZAN_data)\n",
        "print(len(GTZAN_trainset))\n",
        "GTZAN_trainloader = torch.utils.data.DataLoader(GTZAN_trainset, batch_size=batch_size, shuffle=True, num_workers=num_workers)\n",
        "\n",
        "GTZAN_data = pickle.load(open(drive_dir + 'GTZAN/GTZAN_165x32_normalized.test', 'rb'))\n",
        "GTZAN_testset = Dataset(GTZAN_data)\n",
        "GTZAN_testloader = torch.utils.data.DataLoader(GTZAN_testset, batch_size=batch_size, shuffle=True, num_workers=num_workers)\n",
        "\n",
        "GTZAN_classes = ['blues', 'classical', 'country', 'disco', 'hiphop', 'jazz', 'metal', 'pop', 'reggae', 'rock']\n",
        "\n",
        "\n",
        "\n",
        "# FMA\n",
        "FMA_data = pickle.load(open(drive_dir + 'FMA/FMA_165x32_normalized.train', 'rb'))\n",
        "FMA_trainset = Dataset(FMA_data)\n",
        "print(len(FMA_trainset))\n",
        "FMA_trainloader = torch.utils.data.DataLoader(FMA_trainset, batch_size=batch_size, shuffle=True, num_workers=num_workers, drop_last=True)\n",
        "\n",
        "FMA_data = pickle.load(open(drive_dir + 'FMA/FMA_165x32_normalized.test', 'rb'))\n",
        "FMA_testset = Dataset(FMA_data)\n",
        "FMA_testloader = torch.utils.data.DataLoader(FMA_testset, batch_size=batch_size, shuffle=True, num_workers=num_workers, drop_last=True)\n",
        "\n",
        "FMA_classes = ['Blues', 'Classical', 'Country', 'Easy Listening', 'Electronic', 'Experimental', 'Folk', 'Hip-Hop', 'Instrumental', 'International', 'Jazz', 'Old-Time / Historic', 'Pop', 'Rock', 'Soul-RnB', 'Spoken']\n",
        "\n",
        "\n",
        "# RAVDESS\n",
        "RAVDESS_data = pickle.load(open(drive_dir + 'RAVDESS/RAVDESS_165x32_normalized.train', 'rb'))\n",
        "RAVDESS_trainset = Dataset(RAVDESS_data)\n",
        "print(len(RAVDESS_trainset))\n",
        "RAVDESS_trainloader = torch.utils.data.DataLoader(RAVDESS_trainset, batch_size=batch_size, shuffle=True, num_workers=num_workers, drop_last=True)\n",
        "\n",
        "RAVDESS_data = pickle.load(open(drive_dir + 'RAVDESS/RAVDESS_165x32_normalized.test', 'rb'))\n",
        "RAVDESS_testset = Dataset(RAVDESS_data)\n",
        "RAVDESS_testloader = torch.utils.data.DataLoader(RAVDESS_testset, batch_size=batch_size, shuffle=True, num_workers=num_workers, drop_last=True)\n",
        "\n",
        "RAVDESS_classes = ['neutral', 'calm', 'happy', 'sad', 'angry', 'fearful']#, 'disgust', 'surprised']\n",
        "\n",
        "# Choose\n",
        "trainloader = FMA_trainloader\n",
        "testloader = FMA_testloader\n",
        "classes = FMA_classes\n",
        "num_classes = len(classes)"
      ],
      "execution_count": 321,
      "outputs": [
        {
          "output_type": "stream",
          "text": [
            "800\n",
            "19988\n",
            "809\n"
          ],
          "name": "stdout"
        }
      ]
    },
    {
      "cell_type": "code",
      "metadata": {
        "id": "k4A7MowwcnD0",
        "colab_type": "code",
        "colab": {
          "base_uri": "https://localhost:8080/",
          "height": 34
        },
        "outputId": "fd5c1e58-85d6-41a8-c714-96d5c1919f37"
      },
      "source": [
        "# If there are GPUs, choose the first one for computing. Otherwise use CPU.\n",
        "device = torch.device(\"cuda:0\" if torch.cuda.is_available() else \"cpu\")\n",
        "print(device)  \n",
        "# If 'cuda:0' is printed, it means GPU is available."
      ],
      "execution_count": 322,
      "outputs": [
        {
          "output_type": "stream",
          "text": [
            "cuda:0\n"
          ],
          "name": "stdout"
        }
      ]
    },
    {
      "cell_type": "code",
      "metadata": {
        "id": "g4-ZuUOfUkka",
        "colab_type": "code",
        "colab": {}
      },
      "source": [
        "# https://aip.scitation.org/doi/pdf/10.1063/1.5039095\n",
        "class CNN(nn.Module):\n",
        "    def __init__(self):\n",
        "        super(CNN, self).__init__()\n",
        "        self.main = nn.Sequential(\n",
        "            nn.Conv2d(1, 64, kernel_size=3,padding=1),\n",
        "            nn.BatchNorm2d(64,momentum=0.1),\n",
        "            nn.Sigmoid(),\n",
        "            nn.MaxPool2d(2, 2),\n",
        "            nn.Conv2d(64, 64, kernel_size=3,padding=1),\n",
        "            nn.BatchNorm2d(64),\n",
        "            nn.MaxPool2d(2, 2),\n",
        "            nn.Conv2d(64, 128, kernel_size=3,padding=1),\n",
        "            nn.BatchNorm2d(128),\n",
        "            nn.Sigmoid(),\n",
        "            nn.Conv2d(128, 256, kernel_size=3,padding=1),\n",
        "            nn.Sigmoid(),\n",
        "            nn.MaxPool2d(2, 2),\n",
        "            nn.BatchNorm2d(256),\n",
        "            nn.Conv2d(256, 512, kernel_size=3,padding=1),\n",
        "            nn.Sigmoid(),\n",
        "            nn.BatchNorm2d(512),\n",
        "            nn.MaxPool2d(2, 2)       \n",
        "        )\n",
        "   \n",
        "        # flatten \n",
        "        self.fc = nn.Sequential(\n",
        "            nn.Linear(512*2*10,1000),\n",
        "            nn.Sigmoid(),\n",
        "            nn.Dropout(0.5),\n",
        "            nn.Linear(1000,100),\n",
        "            nn.Sigmoid(),\n",
        "            nn.Dropout(0.5),\n",
        "            nn.Linear(100, num_classes),           \n",
        "        )\n",
        "        self.dropOut = nn.Dropout(0.1)\n",
        "        \n",
        "    def forward(self, x):\n",
        "\n",
        "        x = self.main(x)\n",
        "#         print ('x shape: ', x.shape)\n",
        "        x = x.view(-1, 512*2*10) \n",
        "       \n",
        "        x = self.fc(x) \n",
        "        x = self.dropOut(x)\n",
        "        return x"
      ],
      "execution_count": 0,
      "outputs": []
    },
    {
      "cell_type": "code",
      "metadata": {
        "id": "GSX3Wciex9WM",
        "colab_type": "code",
        "colab": {
          "base_uri": "https://localhost:8080/",
          "height": 554
        },
        "outputId": "95adb28c-2a5f-4f7c-e3dc-46206b93c47b"
      },
      "source": [
        "# Initialize model\n",
        "cnn = CNN()     # Create the network instance.\n",
        "cnn.to(device)  # Move the network parameters to the specified device.\n",
        "\n",
        "# Or Load model (Make sure num_classes is the correct size or this code will throw an error)\n",
        "#cnn = CNN()\n",
        "#cnn.to(device)\n",
        "#cnn.load_state_dict(torch.load(drive_dir + 'Models/naivemodel_fma_50.m'))\n",
        "#cnn.eval()"
      ],
      "execution_count": 324,
      "outputs": [
        {
          "output_type": "execute_result",
          "data": {
            "text/plain": [
              "CNN(\n",
              "  (main): Sequential(\n",
              "    (0): Conv2d(1, 64, kernel_size=(3, 3), stride=(1, 1), padding=(1, 1))\n",
              "    (1): BatchNorm2d(64, eps=1e-05, momentum=0.1, affine=True, track_running_stats=True)\n",
              "    (2): Sigmoid()\n",
              "    (3): MaxPool2d(kernel_size=2, stride=2, padding=0, dilation=1, ceil_mode=False)\n",
              "    (4): Conv2d(64, 64, kernel_size=(3, 3), stride=(1, 1), padding=(1, 1))\n",
              "    (5): BatchNorm2d(64, eps=1e-05, momentum=0.1, affine=True, track_running_stats=True)\n",
              "    (6): MaxPool2d(kernel_size=2, stride=2, padding=0, dilation=1, ceil_mode=False)\n",
              "    (7): Conv2d(64, 128, kernel_size=(3, 3), stride=(1, 1), padding=(1, 1))\n",
              "    (8): BatchNorm2d(128, eps=1e-05, momentum=0.1, affine=True, track_running_stats=True)\n",
              "    (9): Sigmoid()\n",
              "    (10): Conv2d(128, 256, kernel_size=(3, 3), stride=(1, 1), padding=(1, 1))\n",
              "    (11): Sigmoid()\n",
              "    (12): MaxPool2d(kernel_size=2, stride=2, padding=0, dilation=1, ceil_mode=False)\n",
              "    (13): BatchNorm2d(256, eps=1e-05, momentum=0.1, affine=True, track_running_stats=True)\n",
              "    (14): Conv2d(256, 512, kernel_size=(3, 3), stride=(1, 1), padding=(1, 1))\n",
              "    (15): Sigmoid()\n",
              "    (16): BatchNorm2d(512, eps=1e-05, momentum=0.1, affine=True, track_running_stats=True)\n",
              "    (17): MaxPool2d(kernel_size=2, stride=2, padding=0, dilation=1, ceil_mode=False)\n",
              "  )\n",
              "  (fc): Sequential(\n",
              "    (0): Linear(in_features=10240, out_features=1000, bias=True)\n",
              "    (1): Sigmoid()\n",
              "    (2): Dropout(p=0.5, inplace=False)\n",
              "    (3): Linear(in_features=1000, out_features=100, bias=True)\n",
              "    (4): Sigmoid()\n",
              "    (5): Dropout(p=0.5, inplace=False)\n",
              "    (6): Linear(in_features=100, out_features=16, bias=True)\n",
              "  )\n",
              "  (dropOut): Dropout(p=0.1, inplace=False)\n",
              ")"
            ]
          },
          "metadata": {
            "tags": []
          },
          "execution_count": 324
        }
      ]
    },
    {
      "cell_type": "code",
      "metadata": {
        "id": "UkqhM-_SVwUh",
        "colab_type": "code",
        "colab": {}
      },
      "source": [
        "# We use cross-entropy as loss function.\n",
        "loss_func = nn.CrossEntropyLoss()  \n",
        "# We use stochastic gradient descent (SGD) as optimizer.\n",
        "opt_cnn = optim.Adam(cnn.parameters(), lr=0.001)#, momentum=0.9) "
      ],
      "execution_count": 0,
      "outputs": []
    },
    {
      "cell_type": "code",
      "metadata": {
        "id": "HVFGx-eKVyJs",
        "colab_type": "code",
        "outputId": "d8822989-cf2e-4b5a-87e2-c29ca164aace",
        "colab": {
          "base_uri": "https://localhost:8080/",
          "height": 34
        }
      },
      "source": [
        "torch.autograd.set_detect_anomaly(True)"
      ],
      "execution_count": 256,
      "outputs": [
        {
          "output_type": "execute_result",
          "data": {
            "text/plain": [
              "<torch.autograd.anomaly_mode.set_detect_anomaly at 0x7f15b68b95c0>"
            ]
          },
          "metadata": {
            "tags": []
          },
          "execution_count": 256
        }
      ]
    },
    {
      "cell_type": "code",
      "metadata": {
        "id": "xfyQWtkrV2YT",
        "colab_type": "code",
        "outputId": "2af84090-09eb-4f26-ecf3-422ee5f4d57f",
        "colab": {
          "base_uri": "https://localhost:8080/",
          "height": 874
        }
      },
      "source": [
        "avg_losses_cnn = []\n",
        "avg_acc = []\n",
        "epochs = 50       # Total epochs.\n",
        "print_freq = len(trainloader)  # Print frequency.\n",
        "\n",
        "try:\n",
        "    for epoch in range(epochs):  # Loop over the dataset multiple times.\n",
        "      # Initialize running loss.\n",
        "        running_loss_cnn = 0.0 \n",
        "        running_acc = 0.0\n",
        "        cnn.train()\n",
        "\n",
        "        for i, data in enumerate(trainloader):\n",
        "\n",
        "            # Get the inputs.\n",
        "            inputs, labels = data\n",
        "\n",
        "            # Move the inputs to the specified device.\n",
        "            inputs, labels = inputs.to(device), labels.to(device)\n",
        "\n",
        "            # Zero the parameter gradients.\n",
        "\n",
        "            opt_cnn.zero_grad()\n",
        "                    \n",
        "            outputs_cnn = cnn(inputs)\n",
        "            _, preds = torch.max(outputs_cnn,1)\n",
        "            loss_cnn = loss_func(outputs_cnn, labels)\n",
        "            if loss_cnn < 0:\n",
        "                print(outputs_cnn)\n",
        "                print(labels)\n",
        "                print(loss_cnn)\n",
        "                assert()\n",
        "\n",
        "            # Backward step.\n",
        "            loss_cnn.backward()\n",
        "            # Optimization step (update the parameters).\n",
        "            opt_cnn.step()\n",
        "            # Print statistics.         \n",
        "            running_loss_cnn += loss_cnn.item()\n",
        "            running_acc += torch.sum(preds == labels.data)\n",
        "            if i % print_freq == print_freq - 1: # Print every several mini-batches.\n",
        "\n",
        "                losses = running_loss_cnn / print_freq\n",
        "                acc = running_acc / (print_freq*batch_size)\n",
        "\n",
        "                print('[epoch: {}, i: {:5d}] avg mini-batch loss_cnn: {:.3f}, acc: {:.3f}'.format(\n",
        "                    epoch, i, losses, acc))\n",
        "\n",
        "                avg_losses_cnn.append(losses)\n",
        "                avg_acc.append(acc)\n",
        "\n",
        "                running_loss_cnn = 0.0\n",
        "                running_acc = 0.0\n",
        "\n",
        "    print('Finished Training.')\n",
        "except KeyboardInterrupt:\n",
        "    print('Halted Training')"
      ],
      "execution_count": 257,
      "outputs": [
        {
          "output_type": "stream",
          "text": [
            "[epoch: 0, i:    24] avg mini-batch loss_cnn: 2.296, acc: 0.146\n",
            "[epoch: 1, i:    24] avg mini-batch loss_cnn: 2.059, acc: 0.278\n",
            "[epoch: 2, i:    24] avg mini-batch loss_cnn: 1.880, acc: 0.343\n",
            "[epoch: 3, i:    24] avg mini-batch loss_cnn: 1.803, acc: 0.340\n",
            "[epoch: 4, i:    24] avg mini-batch loss_cnn: 1.724, acc: 0.381\n",
            "[epoch: 5, i:    24] avg mini-batch loss_cnn: 1.623, acc: 0.441\n",
            "[epoch: 6, i:    24] avg mini-batch loss_cnn: 1.579, acc: 0.454\n",
            "[epoch: 7, i:    24] avg mini-batch loss_cnn: 1.531, acc: 0.455\n",
            "[epoch: 8, i:    24] avg mini-batch loss_cnn: 1.482, acc: 0.469\n",
            "[epoch: 9, i:    24] avg mini-batch loss_cnn: 1.413, acc: 0.532\n",
            "[epoch: 10, i:    24] avg mini-batch loss_cnn: 1.488, acc: 0.480\n",
            "[epoch: 11, i:    24] avg mini-batch loss_cnn: 1.380, acc: 0.515\n",
            "[epoch: 12, i:    24] avg mini-batch loss_cnn: 1.379, acc: 0.509\n",
            "[epoch: 13, i:    24] avg mini-batch loss_cnn: 1.281, acc: 0.555\n",
            "[epoch: 14, i:    24] avg mini-batch loss_cnn: 1.311, acc: 0.537\n",
            "[epoch: 15, i:    24] avg mini-batch loss_cnn: 1.294, acc: 0.542\n",
            "[epoch: 16, i:    24] avg mini-batch loss_cnn: 1.265, acc: 0.554\n",
            "[epoch: 17, i:    24] avg mini-batch loss_cnn: 1.188, acc: 0.599\n",
            "[epoch: 18, i:    24] avg mini-batch loss_cnn: 1.226, acc: 0.577\n",
            "[epoch: 19, i:    24] avg mini-batch loss_cnn: 1.186, acc: 0.582\n",
            "[epoch: 20, i:    24] avg mini-batch loss_cnn: 1.182, acc: 0.589\n",
            "[epoch: 21, i:    24] avg mini-batch loss_cnn: 1.118, acc: 0.602\n",
            "[epoch: 22, i:    24] avg mini-batch loss_cnn: 1.046, acc: 0.642\n",
            "[epoch: 23, i:    24] avg mini-batch loss_cnn: 1.054, acc: 0.646\n",
            "[epoch: 24, i:    24] avg mini-batch loss_cnn: 0.994, acc: 0.671\n",
            "[epoch: 25, i:    24] avg mini-batch loss_cnn: 0.910, acc: 0.685\n",
            "[epoch: 26, i:    24] avg mini-batch loss_cnn: 0.952, acc: 0.681\n",
            "[epoch: 27, i:    24] avg mini-batch loss_cnn: 0.940, acc: 0.673\n",
            "[epoch: 28, i:    24] avg mini-batch loss_cnn: 0.893, acc: 0.707\n",
            "[epoch: 29, i:    24] avg mini-batch loss_cnn: 0.870, acc: 0.701\n",
            "[epoch: 30, i:    24] avg mini-batch loss_cnn: 0.795, acc: 0.720\n",
            "[epoch: 31, i:    24] avg mini-batch loss_cnn: 0.790, acc: 0.726\n",
            "[epoch: 32, i:    24] avg mini-batch loss_cnn: 0.720, acc: 0.757\n",
            "[epoch: 33, i:    24] avg mini-batch loss_cnn: 0.708, acc: 0.772\n",
            "[epoch: 34, i:    24] avg mini-batch loss_cnn: 0.724, acc: 0.752\n",
            "[epoch: 35, i:    24] avg mini-batch loss_cnn: 0.684, acc: 0.771\n",
            "[epoch: 36, i:    24] avg mini-batch loss_cnn: 0.626, acc: 0.791\n",
            "[epoch: 37, i:    24] avg mini-batch loss_cnn: 0.670, acc: 0.790\n",
            "[epoch: 38, i:    24] avg mini-batch loss_cnn: 0.628, acc: 0.799\n",
            "[epoch: 39, i:    24] avg mini-batch loss_cnn: 0.566, acc: 0.816\n",
            "[epoch: 40, i:    24] avg mini-batch loss_cnn: 0.551, acc: 0.826\n",
            "[epoch: 41, i:    24] avg mini-batch loss_cnn: 0.535, acc: 0.826\n",
            "[epoch: 42, i:    24] avg mini-batch loss_cnn: 0.533, acc: 0.826\n",
            "[epoch: 43, i:    24] avg mini-batch loss_cnn: 0.456, acc: 0.859\n",
            "[epoch: 44, i:    24] avg mini-batch loss_cnn: 0.517, acc: 0.826\n",
            "[epoch: 45, i:    24] avg mini-batch loss_cnn: 0.468, acc: 0.847\n",
            "[epoch: 46, i:    24] avg mini-batch loss_cnn: 0.444, acc: 0.865\n",
            "[epoch: 47, i:    24] avg mini-batch loss_cnn: 0.488, acc: 0.832\n",
            "[epoch: 48, i:    24] avg mini-batch loss_cnn: 0.430, acc: 0.859\n",
            "[epoch: 49, i:    24] avg mini-batch loss_cnn: 0.446, acc: 0.860\n",
            "Finished Training.\n"
          ],
          "name": "stdout"
        }
      ]
    },
    {
      "cell_type": "code",
      "metadata": {
        "id": "SvxPZOtk_pfk",
        "colab_type": "code",
        "colab": {}
      },
      "source": [
        "# Save Model\n",
        "#torch.save(cnn.state_dict(), 'naivemodel_fma_100.m')"
      ],
      "execution_count": 0,
      "outputs": []
    },
    {
      "cell_type": "code",
      "metadata": {
        "id": "KcXCRYs0hYPE",
        "colab_type": "code",
        "colab": {
          "base_uri": "https://localhost:8080/",
          "height": 279
        },
        "outputId": "99070e69-c7a4-4c1d-8593-099e0e3c1cba"
      },
      "source": [
        "plt.plot(avg_losses_cnn, 'b')\n",
        "#plt.plot(avg_losses_cnn, 'r', label='twitched')\n",
        "#plt.xlabel('mini-batch index / {}'.format(print_freq))\n",
        "plt.xlabel('Epochs')\n",
        "plt.ylabel('Average Mini-Batch Loss')\n",
        "plt.show()"
      ],
      "execution_count": 200,
      "outputs": [
        {
          "output_type": "display_data",
          "data": {
            "image/png": "[encoded data removed]",
            "text/plain": [
              "<Figure size 432x288 with 1 Axes>"
            ]
          },
          "metadata": {
            "tags": [],
            "needs_background": "light"
          }
        }
      ]
    },
    {
      "cell_type": "code",
      "metadata": {
        "id": "NmVi7iLNW62R",
        "colab_type": "code",
        "outputId": "d43887dd-e3e1-4972-80db-82dd02bc11a1",
        "colab": {
          "base_uri": "https://localhost:8080/",
          "height": 34
        }
      },
      "source": [
        "cnn = CNN()\n",
        "cnn.to(device)\n",
        "cnn.load_state_dict(torch.load(drive_dir + 'Models/naivemodel_fma_50.m'))\n",
        "cnn.eval()\n",
        "\n",
        "# Get test accuracy.\n",
        "correct_net = 0\n",
        "correct_cnn = 0\n",
        "total = 0\n",
        "with torch.no_grad():\n",
        "    \n",
        "    for data in testloader:\n",
        "        images, labels = data\n",
        "        images, labels = images.to(device), labels.to(device)\n",
        "#         outputs_net = net(images)\n",
        "        outputs_cnn = cnn(images)\n",
        "#         _, predicted_net = torch.max(outputs_net.data, 1)\n",
        "        _, predicted_cnn = torch.max(outputs_cnn.data, 1)\n",
        "        total += labels.size(0)\n",
        "#         correct_net += (predicted_net == labels).sum().item()\n",
        "        correct_cnn += (predicted_cnn == labels).sum().item()\n",
        "\n",
        "# print('Net: Accuracy of the network on the 10000 test images: %d %%' % (\n",
        "#     100 * correct_net / total))\n",
        "print('Cnn: Accuracy of the network on the test images: %d %%' % (\n",
        "    100 * correct_cnn / total))"
      ],
      "execution_count": 325,
      "outputs": [
        {
          "output_type": "stream",
          "text": [
            "Cnn: Accuracy of the network on the test images: 63 %\n"
          ],
          "name": "stdout"
        }
      ]
    },
    {
      "cell_type": "code",
      "metadata": {
        "id": "dLXBfy_EYCoo",
        "colab_type": "code",
        "colab": {
          "base_uri": "https://localhost:8080/",
          "height": 554
        },
        "outputId": "516abeb5-df7b-4e77-cd8f-e1f8caa2f056"
      },
      "source": [
        "truths = []\n",
        "preds = []\n",
        "\n",
        "# Get test accuracy for each class.\n",
        "class_correct = list(0. for i in range(num_classes))\n",
        "class_total = list(0. for i in range(num_classes))\n",
        "\n",
        "with torch.no_grad():\n",
        "    for data in testloader:\n",
        "        images, labels = data\n",
        "        images, labels = images.to(device), labels.to(device)\n",
        "        #print(images.shape)\n",
        "        outputs = cnn(images)\n",
        "        _, predicted = torch.max(outputs, 1)\n",
        "        #print(len(outputs))\n",
        "        c = (predicted == labels).squeeze()\n",
        "        if type(c) is not list:\n",
        "            c = [c]\n",
        "        for i in range(batch_size):\n",
        "\n",
        "            #assert()\n",
        "            try:\n",
        "              preds.append(predicted[i].item())\n",
        "              \n",
        "              truths.append(labels[i].item())\n",
        "\n",
        "              label = labels[i]\n",
        "              class_correct[label] += c[0][i]\n",
        "              class_total[label] += 1\n",
        "            except:\n",
        "              pass\n",
        "\n",
        "for i in range(num_classes):\n",
        "    try:\n",
        "        print(class_total[i])\n",
        "        print('Accuracy of %5s : %2d %%' % (\n",
        "            classes[i], 100 * class_correct[i] / class_total[i]))\n",
        "    except:\n",
        "      pass\n",
        "  "
      ],
      "execution_count": 326,
      "outputs": [
        {
          "output_type": "stream",
          "text": [
            "21.0\n",
            "Accuracy of Blues :  0 %\n",
            "133.0\n",
            "Accuracy of Classical : 79 %\n",
            "30.0\n",
            "Accuracy of Country :  0 %\n",
            "5.0\n",
            "Accuracy of Easy Listening :  0 %\n",
            "1304.0\n",
            "Accuracy of Electronic : 76 %\n",
            "442.0\n",
            "Accuracy of Experimental : 48 %\n",
            "289.0\n",
            "Accuracy of  Folk : 66 %\n",
            "443.0\n",
            "Accuracy of Hip-Hop : 63 %\n",
            "271.0\n",
            "Accuracy of Instrumental : 36 %\n",
            "221.0\n",
            "Accuracy of International : 45 %\n",
            "81.0\n",
            "Accuracy of  Jazz :  0 %\n",
            "98.0\n",
            "Accuracy of Old-Time / Historic : 92 %\n",
            "220.0\n",
            "Accuracy of   Pop :  0 %\n",
            "1384.0\n",
            "Accuracy of  Rock : 78 %\n",
            "29.0\n",
            "Accuracy of Soul-RnB :  0 %\n",
            "21.0\n",
            "Accuracy of Spoken : 52 %\n"
          ],
          "name": "stdout"
        }
      ]
    },
    {
      "cell_type": "code",
      "metadata": {
        "id": "SEdF5OSPu5Sv",
        "colab_type": "code",
        "colab": {
          "base_uri": "https://localhost:8080/",
          "height": 619
        },
        "outputId": "654e7032-429d-462c-b776-a40017ede45d"
      },
      "source": [
        "array = metrics.confusion_matrix([t - 1 for t in truths], [t - 1 for t in preds])\n",
        "df_cm = pd.DataFrame(array, index = classes, columns = classes)\n",
        "plt.figure(figsize = (20,9))\n",
        "f = sn.heatmap(df_cm, annot=True, fmt='g')\n",
        "\n",
        "figure = f.get_figure()    \n",
        "figure.savefig('fma_before.png')"
      ],
      "execution_count": 327,
      "outputs": [
        {
          "output_type": "display_data",
          "data": {
            "image/png": "[encoded data removed]",
            "text/plain": [
              "<Figure size 1440x648 with 2 Axes>"
            ]
          },
          "metadata": {
            "tags": [],
            "needs_background": "light"
          }
        }
      ]
    },
    {
      "cell_type": "code",
      "metadata": {
        "id": "GeCCHGo8BzfM",
        "colab_type": "code",
        "colab": {}
      },
      "source": [
        ""
      ],
      "execution_count": 0,
      "outputs": []
    },
    {
      "cell_type": "markdown",
      "metadata": {
        "id": "5BgBlA0oB0xl",
        "colab_type": "text"
      },
      "source": [
        "Transfer Learning:"
      ]
    },
    {
      "cell_type": "code",
      "metadata": {
        "id": "Au-Hn24ijCtV",
        "colab_type": "code",
        "colab": {
          "base_uri": "https://localhost:8080/",
          "height": 34
        },
        "outputId": "fd06a3fc-3ef6-4ab4-d71a-62161fa35bbc"
      },
      "source": [
        "# Choose main dataset\n",
        "trainloader = FMA_trainloader\n",
        "testloader = FMA_testloader\n",
        "classes = FMA_classes\n",
        "num_classes = len(classes)\n",
        "\n",
        "cnn = CNN()\n",
        "cnn.to(device)\n",
        "cnn.load_state_dict(torch.load(drive_dir + 'Models/naivemodel_fma_50.m'))\n",
        "cnn.eval()\n",
        "model = cnn\n",
        "\n",
        "# Choose second dataset\n",
        "trainloader = RAVDESS_trainloader\n",
        "testloader = RAVDESS_testloader\n",
        "classes = RAVDESS_classes\n",
        "num_classes = len(classes)\n",
        "print(num_classes)\n",
        "\n",
        "for param in model_conv.parameters():\n",
        "    param.requires_grad = False\n",
        "\n",
        "# Parameters of newly constructed modules have requires_grad=True by default\n",
        "num_ftrs = 100\n",
        "\n",
        "model_conv.fc = nn.Sequential(\n",
        "            nn.Linear(512*2*10,1000),\n",
        "            nn.Sigmoid(),\n",
        "            nn.Dropout(0.5),\n",
        "            nn.Linear(1000,100),\n",
        "            nn.Sigmoid(),\n",
        "            nn.Dropout(0.5),\n",
        "            nn.Linear(100, num_classes),           \n",
        "        )\n",
        "\n",
        "cnn = model_conv\n",
        "\n",
        "cnn = cnn.to(device)\n",
        "\n",
        "criterion = nn.CrossEntropyLoss()\n",
        "\n",
        "# Observe that only parameters of final layer are being optimized as\n",
        "# opposed to before.\n",
        "optimizer_conv = optim.SGD(model_conv.fc.parameters(), lr=0.001, momentum=0.9)\n",
        "\n",
        "# We use cross-entropy as loss function.\n",
        "loss_func = nn.CrossEntropyLoss()  \n",
        "# We use stochastic gradient descent (SGD) as optimizer.\n",
        "opt_cnn = optim.Adam(cnn.parameters(), lr=0.001)#, momentum=0.9) "
      ],
      "execution_count": 309,
      "outputs": [
        {
          "output_type": "stream",
          "text": [
            "6\n"
          ],
          "name": "stdout"
        }
      ]
    },
    {
      "cell_type": "code",
      "metadata": {
        "id": "r_v-1P4yrCC3",
        "colab_type": "code",
        "colab": {
          "base_uri": "https://localhost:8080/",
          "height": 874
        },
        "outputId": "bfd23ee6-21a3-446c-bc63-ba9562ea5481"
      },
      "source": [
        "avg_losses_cnn = []\n",
        "avg_acc = []\n",
        "epochs = 50       # Total epochs.\n",
        "print_freq = len(trainloader)  # Print frequency.\n",
        "\n",
        "try:\n",
        "    for epoch in range(epochs):  # Loop over the dataset multiple times.\n",
        "      # Initialize running loss.\n",
        "        running_loss_cnn = 0.0 \n",
        "        running_acc = 0.0\n",
        "        cnn.train()\n",
        "\n",
        "        for i, data in enumerate(trainloader):\n",
        "\n",
        "            # Get the inputs.\n",
        "            inputs, labels = data\n",
        "\n",
        "            # Move the inputs to the specified device.\n",
        "            inputs, labels = inputs.to(device), labels.to(device)\n",
        "\n",
        "            # Zero the parameter gradients.\n",
        "\n",
        "            opt_cnn.zero_grad()\n",
        "                    \n",
        "            outputs_cnn = cnn(inputs)\n",
        "            _, preds = torch.max(outputs_cnn,1)\n",
        "            loss_cnn = loss_func(outputs_cnn, labels)\n",
        "            if loss_cnn < 0:\n",
        "                print(outputs_cnn)\n",
        "                print(labels)\n",
        "                print(loss_cnn)\n",
        "                assert()\n",
        "\n",
        "            # Backward step.\n",
        "            loss_cnn.backward()\n",
        "            # Optimization step (update the parameters).\n",
        "            opt_cnn.step()\n",
        "            # Print statistics.         \n",
        "            running_loss_cnn += loss_cnn.item()\n",
        "            running_acc += torch.sum(preds == labels.data)\n",
        "            if i % print_freq == print_freq - 1: # Print every several mini-batches.\n",
        "\n",
        "                losses = running_loss_cnn / print_freq\n",
        "                acc = running_acc / (print_freq*batch_size)\n",
        "\n",
        "                print('[epoch: {}, i: {:5d}] avg mini-batch loss_cnn: {:.3f}, acc: {:.3f}'.format(\n",
        "                    epoch, i, losses, acc))\n",
        "\n",
        "                avg_losses_cnn.append(losses)\n",
        "                avg_acc.append(acc)\n",
        "\n",
        "                running_loss_cnn = 0.0\n",
        "                running_acc = 0.0\n",
        "\n",
        "    print('Finished Training.')\n",
        "except KeyboardInterrupt:\n",
        "    print('Halted Training')"
      ],
      "execution_count": 312,
      "outputs": [
        {
          "output_type": "stream",
          "text": [
            "[epoch: 0, i:    24] avg mini-batch loss_cnn: 1.815, acc: 0.199\n",
            "[epoch: 1, i:    24] avg mini-batch loss_cnn: 1.695, acc: 0.265\n",
            "[epoch: 2, i:    24] avg mini-batch loss_cnn: 1.628, acc: 0.309\n",
            "[epoch: 3, i:    24] avg mini-batch loss_cnn: 1.571, acc: 0.312\n",
            "[epoch: 4, i:    24] avg mini-batch loss_cnn: 1.562, acc: 0.314\n",
            "[epoch: 5, i:    24] avg mini-batch loss_cnn: 1.513, acc: 0.341\n",
            "[epoch: 6, i:    24] avg mini-batch loss_cnn: 1.455, acc: 0.376\n",
            "[epoch: 7, i:    24] avg mini-batch loss_cnn: 1.471, acc: 0.365\n",
            "[epoch: 8, i:    24] avg mini-batch loss_cnn: 1.425, acc: 0.391\n",
            "[epoch: 9, i:    24] avg mini-batch loss_cnn: 1.431, acc: 0.395\n",
            "[epoch: 10, i:    24] avg mini-batch loss_cnn: 1.423, acc: 0.373\n",
            "[epoch: 11, i:    24] avg mini-batch loss_cnn: 1.407, acc: 0.394\n",
            "[epoch: 12, i:    24] avg mini-batch loss_cnn: 1.398, acc: 0.407\n",
            "[epoch: 13, i:    24] avg mini-batch loss_cnn: 1.389, acc: 0.419\n",
            "[epoch: 14, i:    24] avg mini-batch loss_cnn: 1.364, acc: 0.421\n",
            "[epoch: 15, i:    24] avg mini-batch loss_cnn: 1.330, acc: 0.441\n",
            "[epoch: 16, i:    24] avg mini-batch loss_cnn: 1.324, acc: 0.457\n",
            "[epoch: 17, i:    24] avg mini-batch loss_cnn: 1.309, acc: 0.474\n",
            "[epoch: 18, i:    24] avg mini-batch loss_cnn: 1.273, acc: 0.484\n",
            "[epoch: 19, i:    24] avg mini-batch loss_cnn: 1.259, acc: 0.474\n",
            "[epoch: 20, i:    24] avg mini-batch loss_cnn: 1.235, acc: 0.485\n",
            "[epoch: 21, i:    24] avg mini-batch loss_cnn: 1.209, acc: 0.522\n",
            "[epoch: 22, i:    24] avg mini-batch loss_cnn: 1.227, acc: 0.486\n",
            "[epoch: 23, i:    24] avg mini-batch loss_cnn: 1.179, acc: 0.522\n",
            "[epoch: 24, i:    24] avg mini-batch loss_cnn: 1.141, acc: 0.545\n",
            "[epoch: 25, i:    24] avg mini-batch loss_cnn: 1.138, acc: 0.540\n",
            "[epoch: 26, i:    24] avg mini-batch loss_cnn: 1.124, acc: 0.555\n",
            "[epoch: 27, i:    24] avg mini-batch loss_cnn: 1.090, acc: 0.570\n",
            "[epoch: 28, i:    24] avg mini-batch loss_cnn: 1.094, acc: 0.565\n",
            "[epoch: 29, i:    24] avg mini-batch loss_cnn: 1.078, acc: 0.560\n",
            "[epoch: 30, i:    24] avg mini-batch loss_cnn: 1.131, acc: 0.544\n",
            "[epoch: 31, i:    24] avg mini-batch loss_cnn: 1.091, acc: 0.565\n",
            "[epoch: 32, i:    24] avg mini-batch loss_cnn: 1.067, acc: 0.584\n",
            "[epoch: 33, i:    24] avg mini-batch loss_cnn: 1.070, acc: 0.585\n",
            "[epoch: 34, i:    24] avg mini-batch loss_cnn: 1.030, acc: 0.605\n",
            "[epoch: 35, i:    24] avg mini-batch loss_cnn: 0.992, acc: 0.630\n",
            "[epoch: 36, i:    24] avg mini-batch loss_cnn: 0.984, acc: 0.623\n",
            "[epoch: 37, i:    24] avg mini-batch loss_cnn: 0.994, acc: 0.610\n",
            "[epoch: 38, i:    24] avg mini-batch loss_cnn: 0.956, acc: 0.615\n",
            "[epoch: 39, i:    24] avg mini-batch loss_cnn: 0.949, acc: 0.637\n",
            "[epoch: 40, i:    24] avg mini-batch loss_cnn: 0.947, acc: 0.630\n",
            "[epoch: 41, i:    24] avg mini-batch loss_cnn: 0.940, acc: 0.615\n",
            "[epoch: 42, i:    24] avg mini-batch loss_cnn: 0.901, acc: 0.654\n",
            "[epoch: 43, i:    24] avg mini-batch loss_cnn: 0.887, acc: 0.659\n",
            "[epoch: 44, i:    24] avg mini-batch loss_cnn: 0.905, acc: 0.675\n",
            "[epoch: 45, i:    24] avg mini-batch loss_cnn: 0.880, acc: 0.679\n",
            "[epoch: 46, i:    24] avg mini-batch loss_cnn: 0.858, acc: 0.673\n",
            "[epoch: 47, i:    24] avg mini-batch loss_cnn: 0.825, acc: 0.673\n",
            "[epoch: 48, i:    24] avg mini-batch loss_cnn: 0.861, acc: 0.671\n",
            "[epoch: 49, i:    24] avg mini-batch loss_cnn: 0.770, acc: 0.721\n",
            "Finished Training.\n"
          ],
          "name": "stdout"
        }
      ]
    },
    {
      "cell_type": "code",
      "metadata": {
        "id": "telZmXaP5M2-",
        "colab_type": "code",
        "colab": {
          "base_uri": "https://localhost:8080/",
          "height": 34
        },
        "outputId": "fbe98b8d-a61e-45d6-92e2-9495908e506c"
      },
      "source": [
        "# Get test accuracy.\n",
        "correct_net = 0\n",
        "correct_cnn = 0\n",
        "total = 0\n",
        "with torch.no_grad():\n",
        "    \n",
        "    for data in testloader:\n",
        "        images, labels = data\n",
        "        images, labels = images.to(device), labels.to(device)\n",
        "#         outputs_net = net(images)\n",
        "        outputs_cnn = cnn(images)\n",
        "#         _, predicted_net = torch.max(outputs_net.data, 1)\n",
        "        _, predicted_cnn = torch.max(outputs_cnn.data, 1)\n",
        "        total += labels.size(0)\n",
        "#         correct_net += (predicted_net == labels).sum().item()\n",
        "        correct_cnn += (predicted_cnn == labels).sum().item()\n",
        "\n",
        "# print('Net: Accuracy of the network on the 10000 test images: %d %%' % (\n",
        "#     100 * correct_net / total))\n",
        "print('Cnn: Accuracy of the network on the test images: %d %%' % (\n",
        "    100 * correct_cnn / total))"
      ],
      "execution_count": 313,
      "outputs": [
        {
          "output_type": "stream",
          "text": [
            "Cnn: Accuracy of the network on the test images: 56 %\n"
          ],
          "name": "stdout"
        }
      ]
    },
    {
      "cell_type": "code",
      "metadata": {
        "id": "djqu6L1Z5yPg",
        "colab_type": "code",
        "colab": {
          "base_uri": "https://localhost:8080/",
          "height": 218
        },
        "outputId": "91702525-8047-4ec4-cddc-aa384d25b692"
      },
      "source": [
        "truths = []\n",
        "preds = []\n",
        "\n",
        "# Get test accuracy for each class.\n",
        "class_correct = list(0. for i in range(num_classes))\n",
        "class_total = list(0. for i in range(num_classes))\n",
        "\n",
        "with torch.no_grad():\n",
        "    for data in testloader:\n",
        "        images, labels = data\n",
        "        images, labels = images.to(device), labels.to(device)\n",
        "        #print(images.shape)\n",
        "        outputs = cnn(images)\n",
        "        _, predicted = torch.max(outputs, 1)\n",
        "        #print(len(outputs))\n",
        "        c = (predicted == labels).squeeze()\n",
        "        if type(c) is not list:\n",
        "            c = [c]\n",
        "        for i in range(batch_size):\n",
        "\n",
        "            #assert()\n",
        "            try:\n",
        "              preds.append(predicted[i].item())\n",
        "              \n",
        "              truths.append(labels[i].item())\n",
        "\n",
        "              label = labels[i]\n",
        "              class_correct[label] += c[0][i]\n",
        "              class_total[label] += 1\n",
        "            except:\n",
        "              pass\n",
        "\n",
        "for i in range(num_classes):\n",
        "    try:\n",
        "        print(class_total[i])\n",
        "        print('Accuracy of %5s : %2d %%' % (\n",
        "            classes[i], 100 * class_correct[i] / class_total[i]))\n",
        "    except:\n",
        "      pass"
      ],
      "execution_count": 314,
      "outputs": [
        {
          "output_type": "stream",
          "text": [
            "20.0\n",
            "Accuracy of neutral : 45 %\n",
            "39.0\n",
            "Accuracy of  calm : 64 %\n",
            "30.0\n",
            "Accuracy of happy : 63 %\n",
            "37.0\n",
            "Accuracy of   sad : 40 %\n",
            "35.0\n",
            "Accuracy of angry : 51 %\n",
            "31.0\n",
            "Accuracy of fearful : 51 %\n"
          ],
          "name": "stdout"
        }
      ]
    },
    {
      "cell_type": "code",
      "metadata": {
        "id": "J1TdSY51ADqp",
        "colab_type": "code",
        "colab": {
          "base_uri": "https://localhost:8080/",
          "height": 541
        },
        "outputId": "9be9fb34-432b-454b-b374-0aab3e868d1b"
      },
      "source": [
        "array = metrics.confusion_matrix(truths, preds)\n",
        "df_cm = pd.DataFrame(array, index = classes, columns = classes)\n",
        "plt.figure(figsize = (20,9))\n",
        "f = sn.heatmap(df_cm, annot=True, fmt='g')\n",
        "\n",
        "figure = f.get_figure()    \n",
        "figure.savefig('ravdess_after.png')"
      ],
      "execution_count": 316,
      "outputs": [
        {
          "output_type": "display_data",
          "data": {
            "image/png": "[encoded data removed]",
            "text/plain": [
              "<Figure size 1440x648 with 2 Axes>"
            ]
          },
          "metadata": {
            "tags": [],
            "needs_background": "light"
          }
        }
      ]
    },
    {
      "cell_type": "code",
      "metadata": {
        "id": "yLTdowJv198r",
        "colab_type": "code",
        "colab": {}
      },
      "source": [
        ""
      ],
      "execution_count": 0,
      "outputs": []
    }
  ]
}